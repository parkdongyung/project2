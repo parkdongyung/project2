{
 "cells": [
  {
   "cell_type": "code",
   "execution_count": 12,
   "id": "b08fe1e4-ee63-4591-9da0-bc207fca889b",
   "metadata": {},
   "outputs": [],
   "source": [
    "import numpy as np\n",
    "from scipy import stats\n",
    "import pandas as pd\n",
    "import matplotlib.pyplot as plt\n",
    "import seaborn as sns\n",
    "from statsmodels.stats.proportion import proportions_ztest\n",
    "import matplotlib\n",
    "matplotlib.rc('font', family = 'Malgun Gothic')\n",
    "matplotlib.rc('axes', unicode_minus = False)\n",
    "%matplotlib inline\n",
    "import warnings\n",
    "warnings.filterwarnings('ignore')\n",
    "from sklearn.model_selection import train_test_split\n",
    "from statsmodels.api import qqplot, add_constant\n",
    "import statsmodels.formula.api as smf\n",
    "from statsmodels.tools.eval_measures import rmse\n",
    "from sklearn.metrics import r2_score\n",
    "from statsmodels.stats.outliers_influence import variance_inflation_factor\n",
    "import statsmodels.api as sm\n",
    "from statsmodels.formula.api import ols"
   ]
  },
  {
   "cell_type": "code",
   "execution_count": 35,
   "id": "f3c65a3e-96f4-4f5d-8af2-94bee638e1cc",
   "metadata": {},
   "outputs": [
    {
     "data": {
      "text/html": [
       "<div>\n",
       "<style scoped>\n",
       "    .dataframe tbody tr th:only-of-type {\n",
       "        vertical-align: middle;\n",
       "    }\n",
       "\n",
       "    .dataframe tbody tr th {\n",
       "        vertical-align: top;\n",
       "    }\n",
       "\n",
       "    .dataframe thead th {\n",
       "        text-align: right;\n",
       "    }\n",
       "</style>\n",
       "<table border=\"1\" class=\"dataframe\">\n",
       "  <thead>\n",
       "    <tr style=\"text-align: right;\">\n",
       "      <th></th>\n",
       "      <th>Region</th>\n",
       "      <th>State</th>\n",
       "      <th>Location</th>\n",
       "      <th>manufacturer</th>\n",
       "      <th>car_model</th>\n",
       "      <th>car_option</th>\n",
       "      <th>Year</th>\n",
       "      <th>Price</th>\n",
       "      <th>New_Price</th>\n",
       "      <th>Kilometers_Driven</th>\n",
       "      <th>Fuel_Type</th>\n",
       "      <th>Transmission</th>\n",
       "      <th>Owner_Type</th>\n",
       "      <th>Mileage</th>\n",
       "      <th>Engine</th>\n",
       "      <th>Power</th>\n",
       "      <th>Seats</th>\n",
       "      <th>Mileage_unit</th>\n",
       "    </tr>\n",
       "  </thead>\n",
       "  <tbody>\n",
       "    <tr>\n",
       "      <th>0</th>\n",
       "      <td>South</td>\n",
       "      <td>Maharashtra</td>\n",
       "      <td>Mumbai</td>\n",
       "      <td>Maruti</td>\n",
       "      <td>Wagon</td>\n",
       "      <td>R LXI CNG</td>\n",
       "      <td>2010</td>\n",
       "      <td>2682.68</td>\n",
       "      <td>NaN</td>\n",
       "      <td>72000</td>\n",
       "      <td>CNG</td>\n",
       "      <td>Manual</td>\n",
       "      <td>First</td>\n",
       "      <td>37.2400</td>\n",
       "      <td>998 CC</td>\n",
       "      <td>58.16 bhp</td>\n",
       "      <td>5.0</td>\n",
       "      <td>kmpl</td>\n",
       "    </tr>\n",
       "    <tr>\n",
       "      <th>1</th>\n",
       "      <td>South</td>\n",
       "      <td>Maharashtra</td>\n",
       "      <td>Pune</td>\n",
       "      <td>Hyundai</td>\n",
       "      <td>Creta</td>\n",
       "      <td>1.6 CRDi SX Option</td>\n",
       "      <td>2015</td>\n",
       "      <td>19162.00</td>\n",
       "      <td>NaN</td>\n",
       "      <td>41000</td>\n",
       "      <td>Diesel</td>\n",
       "      <td>Manual</td>\n",
       "      <td>First</td>\n",
       "      <td>16.7195</td>\n",
       "      <td>1582 CC</td>\n",
       "      <td>126.2 bhp</td>\n",
       "      <td>5.0</td>\n",
       "      <td>kmpl</td>\n",
       "    </tr>\n",
       "    <tr>\n",
       "      <th>2</th>\n",
       "      <td>South</td>\n",
       "      <td>Tamil Nadu</td>\n",
       "      <td>Chennai</td>\n",
       "      <td>Honda</td>\n",
       "      <td>Jazz</td>\n",
       "      <td>V</td>\n",
       "      <td>2011</td>\n",
       "      <td>6898.32</td>\n",
       "      <td>8.61 Lakh</td>\n",
       "      <td>46000</td>\n",
       "      <td>Petrol</td>\n",
       "      <td>Manual</td>\n",
       "      <td>First</td>\n",
       "      <td>13.6500</td>\n",
       "      <td>1199 CC</td>\n",
       "      <td>88.7 bhp</td>\n",
       "      <td>5.0</td>\n",
       "      <td>kmpl</td>\n",
       "    </tr>\n",
       "    <tr>\n",
       "      <th>3</th>\n",
       "      <td>South</td>\n",
       "      <td>Tamil Nadu</td>\n",
       "      <td>Chennai</td>\n",
       "      <td>Maruti</td>\n",
       "      <td>Ertiga</td>\n",
       "      <td>VDI</td>\n",
       "      <td>2012</td>\n",
       "      <td>9197.76</td>\n",
       "      <td>NaN</td>\n",
       "      <td>87000</td>\n",
       "      <td>Diesel</td>\n",
       "      <td>Manual</td>\n",
       "      <td>First</td>\n",
       "      <td>17.6545</td>\n",
       "      <td>1248 CC</td>\n",
       "      <td>88.76 bhp</td>\n",
       "      <td>7.0</td>\n",
       "      <td>kmpl</td>\n",
       "    </tr>\n",
       "    <tr>\n",
       "      <th>4</th>\n",
       "      <td>South</td>\n",
       "      <td>Tamil Nadu</td>\n",
       "      <td>Coimbatore</td>\n",
       "      <td>Audi</td>\n",
       "      <td>A4</td>\n",
       "      <td>New 2.0 TDI Multitronic</td>\n",
       "      <td>2013</td>\n",
       "      <td>27194.71</td>\n",
       "      <td>NaN</td>\n",
       "      <td>40670</td>\n",
       "      <td>Diesel</td>\n",
       "      <td>Automatic</td>\n",
       "      <td>Second</td>\n",
       "      <td>12.9200</td>\n",
       "      <td>1968 CC</td>\n",
       "      <td>140.8 bhp</td>\n",
       "      <td>5.0</td>\n",
       "      <td>kmpl</td>\n",
       "    </tr>\n",
       "  </tbody>\n",
       "</table>\n",
       "</div>"
      ],
      "text/plain": [
       "  Region        State    Location manufacturer car_model  \\\n",
       "0  South  Maharashtra      Mumbai       Maruti     Wagon   \n",
       "1  South  Maharashtra        Pune      Hyundai     Creta   \n",
       "2  South   Tamil Nadu     Chennai        Honda      Jazz   \n",
       "3  South   Tamil Nadu     Chennai       Maruti    Ertiga   \n",
       "4  South   Tamil Nadu  Coimbatore         Audi        A4   \n",
       "\n",
       "                car_option  Year     Price  New_Price  Kilometers_Driven  \\\n",
       "0                R LXI CNG  2010   2682.68        NaN              72000   \n",
       "1       1.6 CRDi SX Option  2015  19162.00        NaN              41000   \n",
       "2                        V  2011   6898.32  8.61 Lakh              46000   \n",
       "3                      VDI  2012   9197.76        NaN              87000   \n",
       "4  New 2.0 TDI Multitronic  2013  27194.71        NaN              40670   \n",
       "\n",
       "  Fuel_Type Transmission Owner_Type  Mileage   Engine      Power  Seats  \\\n",
       "0       CNG       Manual      First  37.2400   998 CC  58.16 bhp    5.0   \n",
       "1    Diesel       Manual      First  16.7195  1582 CC  126.2 bhp    5.0   \n",
       "2    Petrol       Manual      First  13.6500  1199 CC   88.7 bhp    5.0   \n",
       "3    Diesel       Manual      First  17.6545  1248 CC  88.76 bhp    7.0   \n",
       "4    Diesel    Automatic     Second  12.9200  1968 CC  140.8 bhp    5.0   \n",
       "\n",
       "  Mileage_unit  \n",
       "0         kmpl  \n",
       "1         kmpl  \n",
       "2         kmpl  \n",
       "3         kmpl  \n",
       "4         kmpl  "
      ]
     },
     "execution_count": 35,
     "metadata": {},
     "output_type": "execute_result"
    }
   ],
   "source": [
    "df = pd.read_csv('C:/Users/campus4D045/Desktop/데이터분석/data/car_ad.csv')\n",
    "df.head()"
   ]
  },
  {
   "cell_type": "code",
   "execution_count": 36,
   "id": "be6e67c5-1fdf-4d3c-9a38-3bb3f09111d8",
   "metadata": {},
   "outputs": [
    {
     "data": {
      "text/plain": [
       "Region                  0\n",
       "State                   0\n",
       "Location                0\n",
       "manufacturer            0\n",
       "car_model               0\n",
       "car_option              0\n",
       "Year                    0\n",
       "Price                   0\n",
       "New_Price            5129\n",
       "Kilometers_Driven       0\n",
       "Fuel_Type               0\n",
       "Transmission            0\n",
       "Owner_Type              0\n",
       "Mileage                 0\n",
       "Engine                  0\n",
       "Power                  25\n",
       "Seats                   0\n",
       "Mileage_unit            0\n",
       "dtype: int64"
      ]
     },
     "execution_count": 36,
     "metadata": {},
     "output_type": "execute_result"
    }
   ],
   "source": [
    "df.isnull().sum()"
   ]
  },
  {
   "cell_type": "code",
   "execution_count": 37,
   "id": "73e9544e-e45b-4a90-8235-e66561c8de20",
   "metadata": {},
   "outputs": [],
   "source": [
    "df['Power'].fillna('0 bhp', inplace = True)\n",
    "df['Power'] = df['Power'].replace('null', '0 bhp')"
   ]
  },
  {
   "cell_type": "code",
   "execution_count": 38,
   "id": "20b0ddde-c6ac-49c2-a026-20e61be5bb80",
   "metadata": {},
   "outputs": [],
   "source": [
    "df['Power'] = df['Power'].round()"
   ]
  },
  {
   "cell_type": "code",
   "execution_count": 40,
   "id": "37dee888-72c6-44ae-b3f3-94b28f41068f",
   "metadata": {},
   "outputs": [
    {
     "ename": "ValueError",
     "evalue": "Columns must be same length as key",
     "output_type": "error",
     "traceback": [
      "\u001b[1;31m---------------------------------------------------------------------------\u001b[0m",
      "\u001b[1;31mValueError\u001b[0m                                Traceback (most recent call last)",
      "Cell \u001b[1;32mIn[40], line 1\u001b[0m\n\u001b[1;32m----> 1\u001b[0m df[[\u001b[38;5;124m'\u001b[39m\u001b[38;5;124mPower\u001b[39m\u001b[38;5;124m'\u001b[39m,\u001b[38;5;124m'\u001b[39m\u001b[38;5;124mPower_unit\u001b[39m\u001b[38;5;124m'\u001b[39m]] \u001b[38;5;241m=\u001b[39m df[\u001b[38;5;124m'\u001b[39m\u001b[38;5;124mPower\u001b[39m\u001b[38;5;124m'\u001b[39m]\u001b[38;5;241m.\u001b[39mstr\u001b[38;5;241m.\u001b[39msplit(expand\u001b[38;5;241m=\u001b[39m\u001b[38;5;28;01mTrue\u001b[39;00m)\n\u001b[0;32m      2\u001b[0m df[\u001b[38;5;124m'\u001b[39m\u001b[38;5;124mPower\u001b[39m\u001b[38;5;124m'\u001b[39m] \u001b[38;5;241m=\u001b[39m df[\u001b[38;5;124m'\u001b[39m\u001b[38;5;124mPower\u001b[39m\u001b[38;5;124m'\u001b[39m]\u001b[38;5;241m.\u001b[39mastype(\u001b[38;5;124m'\u001b[39m\u001b[38;5;124mfloat64\u001b[39m\u001b[38;5;124m'\u001b[39m)\n",
      "File \u001b[1;32m~\\anaconda3\\Lib\\site-packages\\pandas\\core\\frame.py:4299\u001b[0m, in \u001b[0;36mDataFrame.__setitem__\u001b[1;34m(self, key, value)\u001b[0m\n\u001b[0;32m   4297\u001b[0m     \u001b[38;5;28mself\u001b[39m\u001b[38;5;241m.\u001b[39m_setitem_frame(key, value)\n\u001b[0;32m   4298\u001b[0m \u001b[38;5;28;01melif\u001b[39;00m \u001b[38;5;28misinstance\u001b[39m(key, (Series, np\u001b[38;5;241m.\u001b[39mndarray, \u001b[38;5;28mlist\u001b[39m, Index)):\n\u001b[1;32m-> 4299\u001b[0m     \u001b[38;5;28mself\u001b[39m\u001b[38;5;241m.\u001b[39m_setitem_array(key, value)\n\u001b[0;32m   4300\u001b[0m \u001b[38;5;28;01melif\u001b[39;00m \u001b[38;5;28misinstance\u001b[39m(value, DataFrame):\n\u001b[0;32m   4301\u001b[0m     \u001b[38;5;28mself\u001b[39m\u001b[38;5;241m.\u001b[39m_set_item_frame_value(key, value)\n",
      "File \u001b[1;32m~\\anaconda3\\Lib\\site-packages\\pandas\\core\\frame.py:4341\u001b[0m, in \u001b[0;36mDataFrame._setitem_array\u001b[1;34m(self, key, value)\u001b[0m\n\u001b[0;32m   4336\u001b[0m \u001b[38;5;28;01melse\u001b[39;00m:\n\u001b[0;32m   4337\u001b[0m     \u001b[38;5;66;03m# Note: unlike self.iloc[:, indexer] = value, this will\u001b[39;00m\n\u001b[0;32m   4338\u001b[0m     \u001b[38;5;66;03m#  never try to overwrite values inplace\u001b[39;00m\n\u001b[0;32m   4340\u001b[0m     \u001b[38;5;28;01mif\u001b[39;00m \u001b[38;5;28misinstance\u001b[39m(value, DataFrame):\n\u001b[1;32m-> 4341\u001b[0m         check_key_length(\u001b[38;5;28mself\u001b[39m\u001b[38;5;241m.\u001b[39mcolumns, key, value)\n\u001b[0;32m   4342\u001b[0m         \u001b[38;5;28;01mfor\u001b[39;00m k1, k2 \u001b[38;5;129;01min\u001b[39;00m \u001b[38;5;28mzip\u001b[39m(key, value\u001b[38;5;241m.\u001b[39mcolumns):\n\u001b[0;32m   4343\u001b[0m             \u001b[38;5;28mself\u001b[39m[k1] \u001b[38;5;241m=\u001b[39m value[k2]\n",
      "File \u001b[1;32m~\\anaconda3\\Lib\\site-packages\\pandas\\core\\indexers\\utils.py:390\u001b[0m, in \u001b[0;36mcheck_key_length\u001b[1;34m(columns, key, value)\u001b[0m\n\u001b[0;32m    388\u001b[0m \u001b[38;5;28;01mif\u001b[39;00m columns\u001b[38;5;241m.\u001b[39mis_unique:\n\u001b[0;32m    389\u001b[0m     \u001b[38;5;28;01mif\u001b[39;00m \u001b[38;5;28mlen\u001b[39m(value\u001b[38;5;241m.\u001b[39mcolumns) \u001b[38;5;241m!=\u001b[39m \u001b[38;5;28mlen\u001b[39m(key):\n\u001b[1;32m--> 390\u001b[0m         \u001b[38;5;28;01mraise\u001b[39;00m \u001b[38;5;167;01mValueError\u001b[39;00m(\u001b[38;5;124m\"\u001b[39m\u001b[38;5;124mColumns must be same length as key\u001b[39m\u001b[38;5;124m\"\u001b[39m)\n\u001b[0;32m    391\u001b[0m \u001b[38;5;28;01melse\u001b[39;00m:\n\u001b[0;32m    392\u001b[0m     \u001b[38;5;66;03m# Missing keys in columns are represented as -1\u001b[39;00m\n\u001b[0;32m    393\u001b[0m     \u001b[38;5;28;01mif\u001b[39;00m \u001b[38;5;28mlen\u001b[39m(columns\u001b[38;5;241m.\u001b[39mget_indexer_non_unique(key)[\u001b[38;5;241m0\u001b[39m]) \u001b[38;5;241m!=\u001b[39m \u001b[38;5;28mlen\u001b[39m(value\u001b[38;5;241m.\u001b[39mcolumns):\n",
      "\u001b[1;31mValueError\u001b[0m: Columns must be same length as key"
     ]
    }
   ],
   "source": [
    "df[['Power','Power_unit']] = df['Power'].str.split(expand=True)\n",
    "df['Power'] = df['Power'].astype('float64')"
   ]
  },
  {
   "cell_type": "code",
   "execution_count": null,
   "id": "d22b8e3f-994f-4596-a869-3fd4e6f7ae66",
   "metadata": {},
   "outputs": [],
   "source": [
    "df.info()"
   ]
  },
  {
   "cell_type": "code",
   "execution_count": null,
   "id": "ae66e8ca-791e-489b-90c8-f70f725bf0ca",
   "metadata": {},
   "outputs": [],
   "source": [
    "df.head()"
   ]
  },
  {
   "cell_type": "code",
   "execution_count": null,
   "id": "7b01cb21-36da-4235-91a4-570f4b0887c5",
   "metadata": {},
   "outputs": [],
   "source": [
    "max_value = df['Kilometers_Driven'].max()\n",
    "\n",
    "print('Max value of Kilometers_Driven:', max_value)"
   ]
  },
  {
   "cell_type": "code",
   "execution_count": null,
   "id": "75adf53f-75be-4d41-8c4b-455b4f737f69",
   "metadata": {},
   "outputs": [],
   "source": [
    "# df['Kilometers_Driven'] = df['Kilometers_Driven'].replace(max_value, np.nan)\n",
    "\n",
    "# # NaN 값 제거\n",
    "# df_cleaned = df.dropna(subset=['Kilometers_Driven'], inplace = True)"
   ]
  },
  {
   "cell_type": "code",
   "execution_count": null,
   "id": "66e6cd70-681e-4a69-a30b-ebc76d9a01f2",
   "metadata": {},
   "outputs": [],
   "source": [
    "unique_car_models = df[df['Power'] == 0]['car_model'].unique()\n",
    "print(unique_car_models)"
   ]
  },
  {
   "cell_type": "code",
   "execution_count": null,
   "id": "c3fa99e8-cb0b-4fab-8dd2-ee2876f41fd5",
   "metadata": {},
   "outputs": [],
   "source": [
    "swift_power = df[df['car_model'].str.contains('Swift', na=False)]['Power']\n",
    "\n",
    "print((swift_power))"
   ]
  },
  {
   "cell_type": "code",
   "execution_count": 149,
   "id": "765e3701-31d8-44f3-bce7-cf0bb90abbe1",
   "metadata": {},
   "outputs": [
    {
     "name": "stdout",
     "output_type": "stream",
     "text": [
      "Fiesta 모델의 Power 열 평균 (제외값 포함된 경우 제외): 74.27\n"
     ]
    }
   ],
   "source": [
    "# 제외할 Power 값 지정\n",
    "excluded_power_values = [0]  # 제외할 Power 값 리스트\n",
    "\n",
    "# 'car_model'에 'Fiesta'가 포함된 행 필터링\n",
    "fiesta_df = df[df['car_model'].str.contains('Fiesta')]\n",
    "\n",
    "# 제외할 Power 값이 아닌 경우만 필터링\n",
    "filtered_fiesta_df = fiesta_df[~fiesta_df['Power'].isin(excluded_power_values)]\n",
    "\n",
    "# 'Power' 열의 평균 계산\n",
    "average_power = filtered_fiesta_df['Power'].mean()\n",
    "\n",
    "print(\"Fiesta 모델의 Power 열 평균 (제외값 포함된 경우 제외):\", average_power.round(2))"
   ]
  },
  {
   "cell_type": "code",
   "execution_count": 150,
   "id": "b751de99-6abb-4a52-8752-e00c97082e5d",
   "metadata": {},
   "outputs": [],
   "source": [
    "df.loc[(df['car_model'].str.contains('Fiesta')) & (df['Power'] == 0), 'Power'] = 74.27"
   ]
  },
  {
   "cell_type": "code",
   "execution_count": 151,
   "id": "e19d5865-2400-4060-ba12-16720db1716e",
   "metadata": {},
   "outputs": [
    {
     "name": "stdout",
     "output_type": "stream",
     "text": [
      "'Santro' 모델의 Power 열 평균 (제외값 포함된 경우 제외): 62.37\n"
     ]
    }
   ],
   "source": [
    "# 제외할 Power 값 지정\n",
    "excluded_power_values = [0]  # 제외할 Power 값 리스트\n",
    "\n",
    "# 'car_model'에 'Fiesta'가 포함된 행 필터링\n",
    "s_df = df[df['car_model'].str.contains('Santro')]\n",
    "\n",
    "# 제외할 Power 값이 아닌 경우만 필터링\n",
    "filtered_s_df = s_df[~s_df['Power'].isin(excluded_power_values)]\n",
    "\n",
    "# 'Power' 열의 평균 계산\n",
    "average_power = filtered_s_df['Power'].mean()\n",
    "\n",
    "print(\"'Santro' 모델의 Power 열 평균 (제외값 포함된 경우 제외):\", average_power.round(2))"
   ]
  },
  {
   "cell_type": "code",
   "execution_count": 152,
   "id": "8b137c37-e210-4b8e-8b6f-31a1ca038e3b",
   "metadata": {},
   "outputs": [],
   "source": [
    "df.loc[(df['car_model'].str.contains('Santro')) & (df['Power'] == 0), 'Power'] = 62.37"
   ]
  },
  {
   "cell_type": "code",
   "execution_count": 153,
   "id": "3a47d46b-1f8e-4f82-afe9-58c69d369903",
   "metadata": {},
   "outputs": [
    {
     "name": "stdout",
     "output_type": "stream",
     "text": [
      "'Swift' 모델의 Power 열 평균 (제외값 포함된 경우 제외): 77.86\n"
     ]
    }
   ],
   "source": [
    "# 제외할 Power 값 지정\n",
    "excluded_power_values = [0]  # 제외할 Power 값 리스트\n",
    "\n",
    "# 'car_model'에 'Fiesta'가 포함된 행 필터링\n",
    "ss_df = df[df['car_model'].str.contains('Swift')]\n",
    "\n",
    "# 제외할 Power 값이 아닌 경우만 필터링\n",
    "filtered_ss_df = ss_df[~ss_df['Power'].isin(excluded_power_values)]\n",
    "\n",
    "# 'Power' 열의 평균 계산\n",
    "average_power = filtered_ss_df['Power'].mean()\n",
    "\n",
    "print(\"'Swift' 모델의 Power 열 평균 (제외값 포함된 경우 제외):\", average_power.round(2))"
   ]
  },
  {
   "cell_type": "code",
   "execution_count": 154,
   "id": "b779d72f-5c07-45c8-84a5-4ac7516affca",
   "metadata": {},
   "outputs": [],
   "source": [
    "df.loc[(df['car_model'].str.contains('Swift')) & (df['Power'] == 0), 'Power'] = 77.86"
   ]
  },
  {
   "cell_type": "code",
   "execution_count": 155,
   "id": "1099d7f4-9bbc-40a1-9b55-54a456409511",
   "metadata": {},
   "outputs": [
    {
     "name": "stdout",
     "output_type": "stream",
     "text": [
      "'Indica' 모델의 Power 열 평균 (제외값 포함된 경우 제외): 67.68\n"
     ]
    }
   ],
   "source": [
    "# 제외할 Power 값 지정\n",
    "excluded_power_values = [0]  # 제외할 Power 값 리스트\n",
    "\n",
    "# 'car_model'에 'Fiesta'가 포함된 행 필터링\n",
    "ss_df = df[df['car_model'].str.contains('Indica')]\n",
    "\n",
    "# 제외할 Power 값이 아닌 경우만 필터링\n",
    "filtered_ss_df = ss_df[~ss_df['Power'].isin(excluded_power_values)]\n",
    "\n",
    "# 'Power' 열의 평균 계산\n",
    "average_power = filtered_ss_df['Power'].mean()\n",
    "\n",
    "print(\"'Indica' 모델의 Power 열 평균 (제외값 포함된 경우 제외):\", average_power.round(2))"
   ]
  },
  {
   "cell_type": "code",
   "execution_count": 156,
   "id": "bc0265b5-8514-45b8-9ad7-dfd0c68b98a1",
   "metadata": {},
   "outputs": [],
   "source": [
    "df.loc[(df['car_model'].str.contains('Indica')) & (df['Power'] == 0), 'Power'] = 67.68"
   ]
  },
  {
   "cell_type": "code",
   "execution_count": 157,
   "id": "6eb7f930-a0eb-49ac-aa7a-5cc36b147b9c",
   "metadata": {},
   "outputs": [
    {
     "name": "stdout",
     "output_type": "stream",
     "text": [
      "'Etios' 모델의 Power 열 평균 (제외값 포함된 경우 제외): 76.55\n"
     ]
    }
   ],
   "source": [
    "# 제외할 Power 값 지정\n",
    "excluded_power_values = [0]  # 제외할 Power 값 리스트\n",
    "\n",
    "# 'car_model'에 'Fiesta'가 포함된 행 필터링\n",
    "ss_df = df[df['car_model'].str.contains('Etios')]\n",
    "\n",
    "# 제외할 Power 값이 아닌 경우만 필터링\n",
    "filtered_ss_df = ss_df[~ss_df['Power'].isin(excluded_power_values)]\n",
    "\n",
    "# 'Power' 열의 평균 계산\n",
    "average_power = filtered_ss_df['Power'].mean()\n",
    "\n",
    "print(\"'Etios' 모델의 Power 열 평균 (제외값 포함된 경우 제외):\", average_power.round(2))"
   ]
  },
  {
   "cell_type": "code",
   "execution_count": 158,
   "id": "4c411078-753b-4742-8233-d6ce436ab9c2",
   "metadata": {},
   "outputs": [],
   "source": [
    "df.loc[(df['car_model'].str.contains('Etios')) & (df['Power'] == 0), 'Power'] = 76.55"
   ]
  },
  {
   "cell_type": "code",
   "execution_count": 162,
   "id": "477f9a9f-9482-4fbf-811d-0df03d006213",
   "metadata": {},
   "outputs": [
    {
     "name": "stdout",
     "output_type": "stream",
     "text": [
      "'City' 모델의 Power 열 평균 (제외값 포함된 경우 제외): 110.79\n"
     ]
    }
   ],
   "source": [
    "# 제외할 Power 값 지정\n",
    "excluded_power_values = [0]  # 제외할 Power 값 리스트\n",
    "\n",
    "# 'car_model'에 'Fiesta'가 포함된 행 필터링\n",
    "ss_df = df[df['car_model'].str.contains('City')]\n",
    "\n",
    "# 제외할 Power 값이 아닌 경우만 필터링\n",
    "filtered_ss_df = ss_df[~ss_df['Power'].isin(excluded_power_values)]\n",
    "\n",
    "# 'Power' 열의 평균 계산\n",
    "average_power = filtered_ss_df['Power'].mean()\n",
    "\n",
    "print(\"'City' 모델의 Power 열 평균 (제외값 포함된 경우 제외):\", average_power.round(2))"
   ]
  },
  {
   "cell_type": "code",
   "execution_count": 163,
   "id": "7a26a858-e709-4c53-a7a3-284f672ca9b6",
   "metadata": {},
   "outputs": [],
   "source": [
    "df.loc[(df['car_model'].str.contains('City')) & (df['Power'] == 0), 'Power'] = 110.79"
   ]
  },
  {
   "cell_type": "code",
   "execution_count": 166,
   "id": "dd573ccd-43ed-4023-a471-8b0d2e26989f",
   "metadata": {},
   "outputs": [
    {
     "name": "stdout",
     "output_type": "stream",
     "text": [
      " 'Optra' 모델의 Power 열 평균 (제외값 포함된 경우 제외): 112.41\n"
     ]
    }
   ],
   "source": [
    "# 제외할 Power 값 지정\n",
    "excluded_power_values = [0]  # 제외할 Power 값 리스트\n",
    "\n",
    "# 'car_model'에 'Fiesta'가 포함된 행 필터링\n",
    "ss_df = df[df['car_model'].str.contains( 'Optra')]\n",
    "\n",
    "# 제외할 Power 값이 아닌 경우만 필터링\n",
    "filtered_ss_df = ss_df[~ss_df['Power'].isin(excluded_power_values)]\n",
    "\n",
    "# 'Power' 열의 평균 계산\n",
    "average_power = filtered_ss_df['Power'].mean()\n",
    "\n",
    "print(\" 'Optra' 모델의 Power 열 평균 (제외값 포함된 경우 제외):\", average_power.round(2))"
   ]
  },
  {
   "cell_type": "code",
   "execution_count": 167,
   "id": "5a588fdb-f99f-4758-867a-8398d69fc9e9",
   "metadata": {},
   "outputs": [],
   "source": [
    "df.loc[(df['car_model'].str.contains( 'Optra')) & (df['Power'] == 0), 'Power'] = 112.41"
   ]
  },
  {
   "cell_type": "code",
   "execution_count": 168,
   "id": "a333a395-1ec8-420a-ad6a-14e92ea0b9d4",
   "metadata": {},
   "outputs": [
    {
     "name": "stdout",
     "output_type": "stream",
     "text": [
      "'Bolero' 모델의 Power 열 평균 (제외값 포함된 경우 제외): 63.28\n"
     ]
    }
   ],
   "source": [
    "# 제외할 Power 값 지정\n",
    "excluded_power_values = [0]  # 제외할 Power 값 리스트\n",
    "\n",
    "# 'car_model'에 'Fiesta'가 포함된 행 필터링\n",
    "ss_df = df[df['car_model'].str.contains('Bolero')]\n",
    "\n",
    "# 제외할 Power 값이 아닌 경우만 필터링\n",
    "filtered_ss_df = ss_df[~ss_df['Power'].isin(excluded_power_values)]\n",
    "\n",
    "# 'Power' 열의 평균 계산\n",
    "average_power = filtered_ss_df['Power'].mean()\n",
    "\n",
    "print(\"'Bolero' 모델의 Power 열 평균 (제외값 포함된 경우 제외):\", average_power.round(2))"
   ]
  },
  {
   "cell_type": "code",
   "execution_count": 169,
   "id": "a8809a22-60be-4439-b8bb-056ede6a96cf",
   "metadata": {},
   "outputs": [],
   "source": [
    "df.loc[(df['car_model'].str.contains('Bolero')) & (df['Power'] == 0), 'Power'] = 63.28"
   ]
  },
  {
   "cell_type": "code",
   "execution_count": 170,
   "id": "5f0e1ca1-ac3d-4df3-b2a0-878360eaad7b",
   "metadata": {},
   "outputs": [
    {
     "name": "stdout",
     "output_type": "stream",
     "text": [
      "'Micra' 모델의 Power 열 평균 (제외값 포함된 경우 제외): 68.78\n"
     ]
    }
   ],
   "source": [
    "# 제외할 Power 값 지정\n",
    "excluded_power_values = [0]  # 제외할 Power 값 리스트\n",
    "\n",
    "# 'car_model'에 'Fiesta'가 포함된 행 필터링\n",
    "ss_df = df[df['car_model'].str.contains('Micra')]\n",
    "\n",
    "# 제외할 Power 값이 아닌 경우만 필터링\n",
    "filtered_ss_df = ss_df[~ss_df['Power'].isin(excluded_power_values)]\n",
    "\n",
    "# 'Power' 열의 평균 계산\n",
    "average_power = filtered_ss_df['Power'].mean()\n",
    "\n",
    "print(\"'Micra' 모델의 Power 열 평균 (제외값 포함된 경우 제외):\", average_power.round(2))"
   ]
  },
  {
   "cell_type": "code",
   "execution_count": 171,
   "id": "456b7fd4-00ef-4cd9-8d27-7758de6dd37c",
   "metadata": {},
   "outputs": [],
   "source": [
    "df.loc[(df['car_model'].str.contains('Bolero')) & (df['Power'] == 0), 'Power'] = 68.78"
   ]
  },
  {
   "cell_type": "code",
   "execution_count": 172,
   "id": "d5e422ca-5012-4490-9292-3910d1dff52f",
   "metadata": {},
   "outputs": [
    {
     "name": "stdout",
     "output_type": "stream",
     "text": [
      "'E-Class' 모델의 Power 열 평균 (제외값 포함된 경우 제외): 204.28\n"
     ]
    }
   ],
   "source": [
    "# 제외할 Power 값 지정\n",
    "excluded_power_values = [0]  # 제외할 Power 값 리스트\n",
    "\n",
    "# 'car_model'에 'Fiesta'가 포함된 행 필터링\n",
    "ss_df = df[df['car_model'].str.contains('E-Class')]\n",
    "\n",
    "# 제외할 Power 값이 아닌 경우만 필터링\n",
    "filtered_ss_df = ss_df[~ss_df['Power'].isin(excluded_power_values)]\n",
    "\n",
    "# 'Power' 열의 평균 계산\n",
    "average_power = filtered_ss_df['Power'].mean()\n",
    "\n",
    "print(\"'E-Class' 모델의 Power 열 평균 (제외값 포함된 경우 제외):\", average_power.round(2))"
   ]
  },
  {
   "cell_type": "code",
   "execution_count": 173,
   "id": "22db9428-db71-4761-a850-8e6e42c1bc99",
   "metadata": {},
   "outputs": [],
   "source": [
    "df.loc[(df['car_model'].str.contains('E-Class')) & (df['Power'] == 0), 'Power'] = 204.28"
   ]
  },
  {
   "cell_type": "code",
   "execution_count": 176,
   "id": "aae2bdcd-df17-40b0-9f2a-e19228f90fbd",
   "metadata": {},
   "outputs": [
    {
     "name": "stdout",
     "output_type": "stream",
     "text": [
      "'5' 모델의 Power 열 평균 (제외값 포함된 경우 제외): 179.34\n"
     ]
    }
   ],
   "source": [
    "# 제외할 Power 값 지정\n",
    "excluded_power_values = [0]  # 제외할 Power 값 리스트\n",
    "\n",
    "# 'car_model'에 'Fiesta'가 포함된 행 필터링\n",
    "ss_df = df[df['car_model'].str.contains('5')]\n",
    "\n",
    "# 제외할 Power 값이 아닌 경우만 필터링\n",
    "filtered_ss_df = ss_df[~ss_df['Power'].isin(excluded_power_values)]\n",
    "\n",
    "# 'Power' 열의 평균 계산\n",
    "average_power = filtered_ss_df['Power'].mean()\n",
    "\n",
    "print(\"'5' 모델의 Power 열 평균 (제외값 포함된 경우 제외):\", average_power.round(2))"
   ]
  },
  {
   "cell_type": "code",
   "execution_count": 177,
   "id": "35b1dc33-e606-4d91-a1e9-fd25e46f8791",
   "metadata": {},
   "outputs": [],
   "source": [
    "df.loc[(df['car_model'].str.contains('5')) & (df['Power'] == 0), 'Power'] = 179.34"
   ]
  },
  {
   "cell_type": "code",
   "execution_count": 178,
   "id": "1e9f1fc1-7eb8-4d12-8dca-2c81240e481d",
   "metadata": {},
   "outputs": [
    {
     "name": "stdout",
     "output_type": "stream",
     "text": [
      "'Wagon' 모델의 Power 열 평균 (제외값 포함된 경우 제외): 66.28\n"
     ]
    }
   ],
   "source": [
    "# 제외할 Power 값 지정\n",
    "excluded_power_values = [0]  # 제외할 Power 값 리스트\n",
    "\n",
    "# 'car_model'에 'Fiesta'가 포함된 행 필터링\n",
    "ss_df = df[df['car_model'].str.contains('Wagon')]\n",
    "\n",
    "# 제외할 Power 값이 아닌 경우만 필터링\n",
    "filtered_ss_df = ss_df[~ss_df['Power'].isin(excluded_power_values)]\n",
    "\n",
    "# 'Power' 열의 평균 계산\n",
    "average_power = filtered_ss_df['Power'].mean()\n",
    "\n",
    "print(\"'Wagon' 모델의 Power 열 평균 (제외값 포함된 경우 제외):\", average_power.round(2))"
   ]
  },
  {
   "cell_type": "code",
   "execution_count": 179,
   "id": "6bb54888-0d66-4376-8874-61e37a5fe724",
   "metadata": {},
   "outputs": [],
   "source": [
    "df.loc[(df['car_model'].str.contains('Wagon')) & (df['Power'] == 0), 'Power'] = 66.28"
   ]
  },
  {
   "cell_type": "code",
   "execution_count": 180,
   "id": "a6925fad-0b50-43c9-a28e-e13cf0808469",
   "metadata": {},
   "outputs": [
    {
     "name": "stdout",
     "output_type": "stream",
     "text": [
      "'Wagon' 모델의 Power 열 평균 (제외값 포함된 경우 제외): 179.5\n"
     ]
    }
   ],
   "source": [
    "# 제외할 Power 값 지정\n",
    "excluded_power_values = [0]  # 제외할 Power 값 리스트\n",
    "\n",
    "# 'car_model'에 'Fiesta'가 포함된 행 필터링\n",
    "ss_df = df[df['car_model'].str.contains('Teana')]\n",
    "\n",
    "# 제외할 Power 값이 아닌 경우만 필터링\n",
    "filtered_ss_df = ss_df[~ss_df['Power'].isin(excluded_power_values)]\n",
    "\n",
    "# 'Power' 열의 평균 계산\n",
    "average_power = filtered_ss_df['Power'].mean()\n",
    "\n",
    "print(\"'Wagon' 모델의 Power 열 평균 (제외값 포함된 경우 제외):\", average_power.round(2))"
   ]
  },
  {
   "cell_type": "code",
   "execution_count": 181,
   "id": "403bf7b1-a4d4-4069-befb-72db796cfb68",
   "metadata": {},
   "outputs": [],
   "source": [
    "df.loc[(df['car_model'].str.contains('Teana')) & (df['Power'] == 0), 'Power'] = 179.5"
   ]
  },
  {
   "cell_type": "code",
   "execution_count": 182,
   "id": "d596e53e-c25e-40f8-9906-c0539e888e69",
   "metadata": {},
   "outputs": [
    {
     "name": "stdout",
     "output_type": "stream",
     "text": [
      "'CR-V' 모델의 Power 열 평균 (제외값 포함된 경우 제외): 153.77\n"
     ]
    }
   ],
   "source": [
    "# 제외할 Power 값 지정\n",
    "excluded_power_values = [0]  # 제외할 Power 값 리스트\n",
    "\n",
    "# 'car_model'에 'Fiesta'가 포함된 행 필터링\n",
    "ss_df = df[df['car_model'].str.contains('CR-V')]\n",
    "\n",
    "# 제외할 Power 값이 아닌 경우만 필터링\n",
    "filtered_ss_df = ss_df[~ss_df['Power'].isin(excluded_power_values)]\n",
    "\n",
    "# 'Power' 열의 평균 계산\n",
    "average_power = filtered_ss_df['Power'].mean()\n",
    "\n",
    "print(\"'CR-V' 모델의 Power 열 평균 (제외값 포함된 경우 제외):\", average_power.round(2))"
   ]
  },
  {
   "cell_type": "code",
   "execution_count": 183,
   "id": "90498095-0793-4efc-b853-d31849578c2e",
   "metadata": {},
   "outputs": [],
   "source": [
    "df.loc[(df['car_model'].str.contains('CR-V')) & (df['Power'] == 0), 'Power'] = 153.77"
   ]
  },
  {
   "cell_type": "code",
   "execution_count": 184,
   "id": "56d4e0a2-3899-4952-b381-13e9dbaa1506",
   "metadata": {},
   "outputs": [
    {
     "name": "stdout",
     "output_type": "stream",
     "text": [
      "'Esteem' 모델의 Power 열 평균 (제외값 포함된 경우 제외): 85.0\n"
     ]
    }
   ],
   "source": [
    "# 제외할 Power 값 지정\n",
    "excluded_power_values = [0]  # 제외할 Power 값 리스트\n",
    "\n",
    "# 'car_model'에 'Fiesta'가 포함된 행 필터링\n",
    "ss_df = df[df['car_model'].str.contains('Esteem')]\n",
    "\n",
    "# 제외할 Power 값이 아닌 경우만 필터링\n",
    "filtered_ss_df = ss_df[~ss_df['Power'].isin(excluded_power_values)]\n",
    "\n",
    "# 'Power' 열의 평균 계산\n",
    "average_power = filtered_ss_df['Power'].mean()\n",
    "\n",
    "print(\"'Esteem' 모델의 Power 열 평균 (제외값 포함된 경우 제외):\", average_power.round(2))"
   ]
  },
  {
   "cell_type": "code",
   "execution_count": 185,
   "id": "17deeef8-d9fa-4fc5-8088-1d9d511e7c8a",
   "metadata": {},
   "outputs": [],
   "source": [
    "df.loc[(df['car_model'].str.contains('Esteem')) & (df['Power'] == 0), 'Power'] = 85.0"
   ]
  },
  {
   "cell_type": "code",
   "execution_count": 186,
   "id": "60134b29-1f51-4788-9f94-c85b5038cd42",
   "metadata": {},
   "outputs": [
    {
     "name": "stdout",
     "output_type": "stream",
     "text": [
      "'Endeavour' 모델의 Power 열 평균 (제외값 포함된 경우 제외): 169.18\n"
     ]
    }
   ],
   "source": [
    "# 제외할 Power 값 지정\n",
    "excluded_power_values = [0]  # 제외할 Power 값 리스트\n",
    "\n",
    "# 'car_model'에 'Fiesta'가 포함된 행 필터링\n",
    "ss_df = df[df['car_model'].str.contains('Endeavour')]\n",
    "\n",
    "# 제외할 Power 값이 아닌 경우만 필터링\n",
    "filtered_ss_df = ss_df[~ss_df['Power'].isin(excluded_power_values)]\n",
    "\n",
    "# 'Power' 열의 평균 계산\n",
    "average_power = filtered_ss_df['Power'].mean()\n",
    "\n",
    "print(\"'Endeavour' 모델의 Power 열 평균 (제외값 포함된 경우 제외):\", average_power.round(2))"
   ]
  },
  {
   "cell_type": "code",
   "execution_count": 187,
   "id": "b5953762-cdeb-4f62-94b4-bb55007d5854",
   "metadata": {},
   "outputs": [],
   "source": [
    "df.loc[(df['car_model'].str.contains('Endeavour')) & (df['Power'] == 0), 'Power'] = 169.18"
   ]
  },
  {
   "cell_type": "code",
   "execution_count": 188,
   "id": "42d04c8b-270b-4cb8-a0fe-9ed973b0aa3c",
   "metadata": {},
   "outputs": [
    {
     "name": "stdout",
     "output_type": "stream",
     "text": [
      "'A4' 모델의 Power 열 평균 (제외값 포함된 경우 제외): 164.24\n"
     ]
    }
   ],
   "source": [
    "# 제외할 Power 값 지정\n",
    "excluded_power_values = [0]  # 제외할 Power 값 리스트\n",
    "\n",
    "# 'car_model'에 'Fiesta'가 포함된 행 필터링\n",
    "ss_df = df[df['car_model'].str.contains('A4')]\n",
    "\n",
    "# 제외할 Power 값이 아닌 경우만 필터링\n",
    "filtered_ss_df = ss_df[~ss_df['Power'].isin(excluded_power_values)]\n",
    "\n",
    "# 'Power' 열의 평균 계산\n",
    "average_power = filtered_ss_df['Power'].mean()\n",
    "\n",
    "print(\"'A4' 모델의 Power 열 평균 (제외값 포함된 경우 제외):\", average_power.round(2))"
   ]
  },
  {
   "cell_type": "code",
   "execution_count": 189,
   "id": "d5cb6b4c-62ed-4bdc-96fd-a1c396d59df9",
   "metadata": {},
   "outputs": [],
   "source": [
    "df.loc[(df['car_model'].str.contains('A4')) & (df['Power'] == 0), 'Power'] = 164.24"
   ]
  },
  {
   "cell_type": "code",
   "execution_count": 190,
   "id": "fe3fcab7-0c3b-4be0-afec-cb4f07aecf74",
   "metadata": {},
   "outputs": [
    {
     "name": "stdout",
     "output_type": "stream",
     "text": [
      "'Punto' 모델의 Power 열 평균 (제외값 포함된 경우 제외): 75.23\n"
     ]
    }
   ],
   "source": [
    "# 제외할 Power 값 지정\n",
    "excluded_power_values = [0]  # 제외할 Power 값 리스트\n",
    "\n",
    "# 'car_model'에 'Fiesta'가 포함된 행 필터링\n",
    "ss_df = df[df['car_model'].str.contains('Punto')]\n",
    "\n",
    "# 제외할 Power 값이 아닌 경우만 필터링\n",
    "filtered_ss_df = ss_df[~ss_df['Power'].isin(excluded_power_values)]\n",
    "\n",
    "# 'Power' 열의 평균 계산\n",
    "average_power = filtered_ss_df['Power'].mean()\n",
    "\n",
    "print(\"'Punto' 모델의 Power 열 평균 (제외값 포함된 경우 제외):\", average_power.round(2))"
   ]
  },
  {
   "cell_type": "code",
   "execution_count": 191,
   "id": "914aa2bf-e005-4fd5-ba89-a08c14949308",
   "metadata": {},
   "outputs": [],
   "source": [
    "df.loc[(df['car_model'].str.contains('Punto')) & (df['Power'] == 0), 'Power'] = 75.23"
   ]
  },
  {
   "cell_type": "code",
   "execution_count": 192,
   "id": "a7fc2716-6738-4ee9-ab20-cb65d5389179",
   "metadata": {},
   "outputs": [
    {
     "name": "stdout",
     "output_type": "stream",
     "text": [
      "'Baleno' 모델의 Power 열 평균 (제외값 포함된 경우 제외): 83.08\n"
     ]
    }
   ],
   "source": [
    "# 제외할 Power 값 지정\n",
    "excluded_power_values = [0]  # 제외할 Power 값 리스트\n",
    "\n",
    "# 'car_model'에 'Fiesta'가 포함된 행 필터링\n",
    "ss_df = df[df['car_model'].str.contains('Baleno')]\n",
    "\n",
    "# 제외할 Power 값이 아닌 경우만 필터링\n",
    "filtered_ss_df = ss_df[~ss_df['Power'].isin(excluded_power_values)]\n",
    "\n",
    "# 'Power' 열의 평균 계산\n",
    "average_power = filtered_ss_df['Power'].mean()\n",
    "\n",
    "print(\"'Baleno' 모델의 Power 열 평균 (제외값 포함된 경우 제외):\", average_power.round(2))"
   ]
  },
  {
   "cell_type": "code",
   "execution_count": 193,
   "id": "79798f41-16cb-4a58-8229-481b9ba4b1dc",
   "metadata": {},
   "outputs": [],
   "source": [
    "df.loc[(df['car_model'].str.contains('Baleno')) & (df['Power'] == 0), 'Power'] = 83.08"
   ]
  },
  {
   "cell_type": "code",
   "execution_count": 194,
   "id": "bcca303f-ece6-4cc4-8c27-f8394aaa368b",
   "metadata": {},
   "outputs": [
    {
     "name": "stdout",
     "output_type": "stream",
     "text": [
      "'Jazz' 모델의 Power 열 평균 (제외값 포함된 경우 제외): 91.2\n"
     ]
    }
   ],
   "source": [
    "# 제외할 Power 값 지정\n",
    "excluded_power_values = [0]  # 제외할 Power 값 리스트\n",
    "\n",
    "# 'car_model'에 'Fiesta'가 포함된 행 필터링\n",
    "ss_df = df[df['car_model'].str.contains('Jazz')]\n",
    "\n",
    "# 제외할 Power 값이 아닌 경우만 필터링\n",
    "filtered_ss_df = ss_df[~ss_df['Power'].isin(excluded_power_values)]\n",
    "\n",
    "# 'Power' 열의 평균 계산\n",
    "average_power = filtered_ss_df['Power'].mean()\n",
    "\n",
    "print(\"'Jazz' 모델의 Power 열 평균 (제외값 포함된 경우 제외):\", average_power.round(2))"
   ]
  },
  {
   "cell_type": "code",
   "execution_count": 195,
   "id": "158c03ea-8b89-4e6d-bac5-3a65a87be49b",
   "metadata": {},
   "outputs": [],
   "source": [
    "df.loc[(df['car_model'].str.contains('Jazz')) & (df['Power'] == 0), 'Power'] = 91.2"
   ]
  },
  {
   "cell_type": "code",
   "execution_count": 198,
   "id": "8bc082ab-aac1-4107-b6ce-c01f8d5ee9f9",
   "metadata": {},
   "outputs": [
    {
     "name": "stdout",
     "output_type": "stream",
     "text": [
      "'Laura' 모델의 Power 열 평균 (제외값 포함된 경우 제외): 122.62\n"
     ]
    }
   ],
   "source": [
    "# 제외할 Power 값 지정\n",
    "excluded_power_values = [0]  # 제외할 Power 값 리스트\n",
    "\n",
    "# 'car_model'에 'Fiesta'가 포함된 행 필터링\n",
    "ss_df = df[df['car_model'].str.contains('Laura')]\n",
    "\n",
    "# 제외할 Power 값이 아닌 경우만 필터링\n",
    "filtered_ss_df = ss_df[~ss_df['Power'].isin(excluded_power_values)]\n",
    "\n",
    "# 'Power' 열의 평균 계산\n",
    "average_power = filtered_ss_df['Power'].mean()\n",
    "\n",
    "print(\"'Laura' 모델의 Power 열 평균 (제외값 포함된 경우 제외):\", average_power.round(2))"
   ]
  },
  {
   "cell_type": "code",
   "execution_count": 199,
   "id": "2876d0c3-c822-4d84-8c77-89aa12e3fcd2",
   "metadata": {},
   "outputs": [],
   "source": [
    "df.loc[(df['car_model'].str.contains('Laura')) & (df['Power'] == 0), 'Power'] = 122.62"
   ]
  },
  {
   "cell_type": "code",
   "execution_count": 200,
   "id": "51df3cfb-2553-4ba1-ab1c-e347653af654",
   "metadata": {},
   "outputs": [
    {
     "name": "stdout",
     "output_type": "stream",
     "text": [
      "{'Cayman': 2, 'Petra': 1, 'Estilo': 3, '1000': 1, 'Laura': 29}\n"
     ]
    }
   ],
   "source": [
    "# 포함된 문자열 리스트\n",
    "models = ['Cayman', 'Petra', 'Estilo', '1000', 'Laura']\n",
    "\n",
    "# 각 모델이 포함된 행의 수를 계산\n",
    "counts = {model: df['car_model'].str.contains(model, na=False).sum() for model in models}\n",
    "\n",
    "print(counts)"
   ]
  },
  {
   "cell_type": "code",
   "execution_count": 204,
   "id": "f0ea4f67-7fa3-4954-a100-07e0e7668f6e",
   "metadata": {
    "jupyter": {
     "source_hidden": true
    }
   },
   "outputs": [],
   "source": [
    "df.to_csv('car_aa.csv', index=False)"
   ]
  },
  {
   "cell_type": "code",
   "execution_count": 205,
   "id": "aedf6bc9-1267-4941-8c17-0d985a31209f",
   "metadata": {
    "collapsed": true,
    "jupyter": {
     "outputs_hidden": true
    }
   },
   "outputs": [
    {
     "name": "stdout",
     "output_type": "stream",
     "text": [
      "194     106.00\n",
      "277     105.00\n",
      "424     138.10\n",
      "550     105.00\n",
      "802     105.00\n",
      "841     105.00\n",
      "911       0.00\n",
      "1048    106.00\n",
      "1298      0.00\n",
      "1326    157.80\n",
      "1483    138.10\n",
      "1616    138.10\n",
      "1775    157.80\n",
      "2014    138.10\n",
      "2273      0.00\n",
      "2335      0.00\n",
      "2349    138.10\n",
      "2647    157.80\n",
      "2765    105.00\n",
      "2982    108.50\n",
      "3031    108.50\n",
      "3040    106.00\n",
      "3637    106.00\n",
      "3833      0.00\n",
      "4240    138.10\n",
      "4312    138.10\n",
      "4313    157.80\n",
      "4371    108.50\n",
      "4430    105.00\n",
      "4652      0.00\n",
      "5335    106.00\n",
      "5532    106.00\n",
      "5658    138.10\n",
      "5825      0.00\n",
      "5857    122.62\n",
      "5879    106.00\n",
      "Name: Power, dtype: float64\n"
     ]
    }
   ],
   "source": [
    "# 포함된 문자열 리스트\n",
    "models = ['Cayman', 'Petra', 'Estilo', '1000', 'Laura']\n",
    "\n",
    "# 각 모델이 포함된 행들 필터링\n",
    "filtered_df = df[df['car_model'].str.contains('|'.join(models), na=False)]\n",
    "\n",
    "# 'Power' 열 조회\n",
    "power_values = filtered_df['Power']\n",
    "\n",
    "print(power_values)"
   ]
  },
  {
   "cell_type": "code",
   "execution_count": 227,
   "id": "9ed98ce8-09a8-430a-826e-df9b1fee5ce7",
   "metadata": {},
   "outputs": [
    {
     "name": "stdout",
     "output_type": "stream",
     "text": [
      "4652    0.0\n",
      "Name: Power, dtype: float64\n"
     ]
    }
   ],
   "source": [
    "# 'car_model'에 'Laura'가 포함된 행 필터링\n",
    "laura_power_values = df[df['car_model'].str.contains('1000', na=False)]['Power']\n",
    "\n",
    "print(laura_power_values)"
   ]
  },
  {
   "cell_type": "code",
   "execution_count": 216,
   "id": "742f0f63-a62b-429d-a060-dcf3b0de0e62",
   "metadata": {},
   "outputs": [
    {
     "name": "stdout",
     "output_type": "stream",
     "text": [
      "68.7770588235294\n"
     ]
    }
   ],
   "source": [
    "#포함하는 car_model을 가진 행을 필터링\n",
    "cayman_df = df[df['car_model'].str.contains('Micra')]\n",
    "\n",
    "# Power 값이 0이 아닌 행만 필터링\n",
    "cayman_df_non_zero_power = cayman_df[cayman_df['Power'] != 0]\n",
    "\n",
    "# Power의 평균을 계산\n",
    "average_power = cayman_df_non_zero_power['Power'].mean()\n",
    "print(average_power)"
   ]
  },
  {
   "cell_type": "code",
   "execution_count": 316,
   "id": "05622415-d52e-43b4-8d6f-44d0bb17e320",
   "metadata": {},
   "outputs": [
    {
     "data": {
      "text/html": [
       "<div>\n",
       "<style scoped>\n",
       "    .dataframe tbody tr th:only-of-type {\n",
       "        vertical-align: middle;\n",
       "    }\n",
       "\n",
       "    .dataframe tbody tr th {\n",
       "        vertical-align: top;\n",
       "    }\n",
       "\n",
       "    .dataframe thead th {\n",
       "        text-align: right;\n",
       "    }\n",
       "</style>\n",
       "<table border=\"1\" class=\"dataframe\">\n",
       "  <thead>\n",
       "    <tr style=\"text-align: right;\">\n",
       "      <th></th>\n",
       "      <th>Name</th>\n",
       "      <th>Location</th>\n",
       "      <th>Price</th>\n",
       "      <th>Year</th>\n",
       "      <th>Kilometers_Driven</th>\n",
       "      <th>Fuel_Type</th>\n",
       "      <th>Transmission</th>\n",
       "      <th>Owner_Type</th>\n",
       "      <th>Mileage</th>\n",
       "      <th>Engine</th>\n",
       "      <th>Power</th>\n",
       "      <th>Seats</th>\n",
       "      <th>New_Price</th>\n",
       "      <th>Mileage_unit</th>\n",
       "    </tr>\n",
       "  </thead>\n",
       "  <tbody>\n",
       "    <tr>\n",
       "      <th>0</th>\n",
       "      <td>Maruti Wagon R LXI CNG</td>\n",
       "      <td>Mumbai</td>\n",
       "      <td>2682.68</td>\n",
       "      <td>2010</td>\n",
       "      <td>72000</td>\n",
       "      <td>CNG</td>\n",
       "      <td>Manual</td>\n",
       "      <td>First</td>\n",
       "      <td>37.24</td>\n",
       "      <td>998 CC</td>\n",
       "      <td>58.16 bhp</td>\n",
       "      <td>5.0</td>\n",
       "      <td>NaN</td>\n",
       "      <td>kmpl</td>\n",
       "    </tr>\n",
       "    <tr>\n",
       "      <th>1</th>\n",
       "      <td>Hyundai Creta 1.6 CRDi SX Option</td>\n",
       "      <td>Pune</td>\n",
       "      <td>19162.00</td>\n",
       "      <td>2015</td>\n",
       "      <td>41000</td>\n",
       "      <td>Diesel</td>\n",
       "      <td>Manual</td>\n",
       "      <td>First</td>\n",
       "      <td>19.67</td>\n",
       "      <td>1582 CC</td>\n",
       "      <td>126.2 bhp</td>\n",
       "      <td>5.0</td>\n",
       "      <td>NaN</td>\n",
       "      <td>kmpl</td>\n",
       "    </tr>\n",
       "    <tr>\n",
       "      <th>2</th>\n",
       "      <td>Honda Jazz V</td>\n",
       "      <td>Chennai</td>\n",
       "      <td>6898.32</td>\n",
       "      <td>2011</td>\n",
       "      <td>46000</td>\n",
       "      <td>Petrol</td>\n",
       "      <td>Manual</td>\n",
       "      <td>First</td>\n",
       "      <td>18.20</td>\n",
       "      <td>1199 CC</td>\n",
       "      <td>88.7 bhp</td>\n",
       "      <td>5.0</td>\n",
       "      <td>8.61 Lakh</td>\n",
       "      <td>kmpl</td>\n",
       "    </tr>\n",
       "    <tr>\n",
       "      <th>3</th>\n",
       "      <td>Maruti Ertiga VDI</td>\n",
       "      <td>Chennai</td>\n",
       "      <td>9197.76</td>\n",
       "      <td>2012</td>\n",
       "      <td>87000</td>\n",
       "      <td>Diesel</td>\n",
       "      <td>Manual</td>\n",
       "      <td>First</td>\n",
       "      <td>20.77</td>\n",
       "      <td>1248 CC</td>\n",
       "      <td>88.76 bhp</td>\n",
       "      <td>7.0</td>\n",
       "      <td>NaN</td>\n",
       "      <td>kmpl</td>\n",
       "    </tr>\n",
       "    <tr>\n",
       "      <th>4</th>\n",
       "      <td>Audi A4 New 2.0 TDI Multitronic</td>\n",
       "      <td>Coimbatore</td>\n",
       "      <td>27194.71</td>\n",
       "      <td>2013</td>\n",
       "      <td>40670</td>\n",
       "      <td>Diesel</td>\n",
       "      <td>Automatic</td>\n",
       "      <td>Second</td>\n",
       "      <td>15.20</td>\n",
       "      <td>1968 CC</td>\n",
       "      <td>140.8 bhp</td>\n",
       "      <td>5.0</td>\n",
       "      <td>NaN</td>\n",
       "      <td>kmpl</td>\n",
       "    </tr>\n",
       "  </tbody>\n",
       "</table>\n",
       "</div>"
      ],
      "text/plain": [
       "                               Name    Location     Price  Year  \\\n",
       "0            Maruti Wagon R LXI CNG      Mumbai   2682.68  2010   \n",
       "1  Hyundai Creta 1.6 CRDi SX Option        Pune  19162.00  2015   \n",
       "2                      Honda Jazz V     Chennai   6898.32  2011   \n",
       "3                 Maruti Ertiga VDI     Chennai   9197.76  2012   \n",
       "4   Audi A4 New 2.0 TDI Multitronic  Coimbatore  27194.71  2013   \n",
       "\n",
       "   Kilometers_Driven Fuel_Type Transmission Owner_Type  Mileage   Engine  \\\n",
       "0              72000       CNG       Manual      First    37.24   998 CC   \n",
       "1              41000    Diesel       Manual      First    19.67  1582 CC   \n",
       "2              46000    Petrol       Manual      First    18.20  1199 CC   \n",
       "3              87000    Diesel       Manual      First    20.77  1248 CC   \n",
       "4              40670    Diesel    Automatic     Second    15.20  1968 CC   \n",
       "\n",
       "       Power  Seats  New_Price Mileage_unit  \n",
       "0  58.16 bhp    5.0        NaN         kmpl  \n",
       "1  126.2 bhp    5.0        NaN         kmpl  \n",
       "2   88.7 bhp    5.0  8.61 Lakh         kmpl  \n",
       "3  88.76 bhp    7.0        NaN         kmpl  \n",
       "4  140.8 bhp    5.0        NaN         kmpl  "
      ]
     },
     "execution_count": 316,
     "metadata": {},
     "output_type": "execute_result"
    }
   ],
   "source": [
    "df.loc[df['Mileage_unit'] == 'km/kg', 'Mileage'] *= 1.4\n",
    "df['Mileage_unit'] = df['Mileage_unit'].replace('km/kg', 'kmpl')\n",
    "\n",
    "df.head()"
   ]
  },
  {
   "cell_type": "code",
   "execution_count": 317,
   "id": "c1b73815-aa2c-4e83-abbb-f010178d5d44",
   "metadata": {},
   "outputs": [
    {
     "name": "stdout",
     "output_type": "stream",
     "text": [
      "4446         Mahindra E Verito D4\n",
      "4904    Toyota Prius 2009-2016 Z4\n",
      "Name: Name, dtype: object\n"
     ]
    }
   ],
   "source": [
    "null_mileage_names = df[df['Mileage'].isnull()]['Name']\n",
    "print(null_mileage_names)"
   ]
  },
  {
   "cell_type": "code",
   "execution_count": 318,
   "id": "ff7f308c-7279-4653-ae3c-8db18d1e7019",
   "metadata": {},
   "outputs": [
    {
     "name": "stdout",
     "output_type": "stream",
     "text": [
      "4446    Electric\n",
      "4904    Electric\n",
      "Name: Fuel_Type, dtype: object\n"
     ]
    }
   ],
   "source": [
    "specific_mileage = df[df['Name'].isin(['Mahindra E Verito D4', 'Toyota Prius 2009-2016 Z4'])]['Fuel_Type']\n",
    "print(specific_mileage)"
   ]
  },
  {
   "cell_type": "code",
   "execution_count": 319,
   "id": "8853a7ac-2624-4dd7-99db-94d53468224f",
   "metadata": {
    "scrolled": true
   },
   "outputs": [],
   "source": [
    "df.dropna(subset = ['Mileage'], inplace = True)"
   ]
  },
  {
   "cell_type": "code",
   "execution_count": 320,
   "id": "263fd0d8-5773-4826-a0ac-4e043bead85d",
   "metadata": {},
   "outputs": [],
   "source": [
    "df['Seats'].fillna(df['Seats'].mean, inplace = True)"
   ]
  },
  {
   "cell_type": "code",
   "execution_count": 321,
   "id": "a6f69782-15e9-42c6-965e-0806a6a931b3",
   "metadata": {},
   "outputs": [
    {
     "data": {
      "text/plain": [
       "Name                    0\n",
       "Location                0\n",
       "Price                1053\n",
       "Year                    0\n",
       "Kilometers_Driven       0\n",
       "Fuel_Type               0\n",
       "Transmission            0\n",
       "Owner_Type              0\n",
       "Mileage                 0\n",
       "Engine                 46\n",
       "Power                  46\n",
       "Seats                   0\n",
       "New_Price            6246\n",
       "Mileage_unit            0\n",
       "dtype: int64"
      ]
     },
     "execution_count": 321,
     "metadata": {},
     "output_type": "execute_result"
    }
   ],
   "source": [
    "df.isnull().sum()"
   ]
  },
  {
   "cell_type": "code",
   "execution_count": 322,
   "id": "1504f9b6-17ad-480f-b846-3ed0d3a1d2dd",
   "metadata": {},
   "outputs": [],
   "source": [
    "df['Price'].fillna(df['Price'].mean, inplace = True)\n",
    "df['Engine'].fillna(df['Engine'].mean, inplace = True)\n",
    "df['Power'].fillna(df['Power'].mean, inplace = True)"
   ]
  },
  {
   "cell_type": "code",
   "execution_count": 323,
   "id": "45d10e3f-eb28-4cee-a0cb-a30b81a36ae5",
   "metadata": {},
   "outputs": [],
   "source": [
    "df[['Engine','Engine_unit']] = df['Engine'].str.split(expand=True)"
   ]
  },
  {
   "cell_type": "code",
   "execution_count": 324,
   "id": "31ac4738-24f8-45ae-86c0-dff4e88f0b08",
   "metadata": {},
   "outputs": [],
   "source": [
    "df[['Power','Power_unit']] = df['Power'].str.split(expand=True)"
   ]
  },
  {
   "cell_type": "code",
   "execution_count": 325,
   "id": "9cc1ff0b-50d2-4c22-9711-d0ed7316c38c",
   "metadata": {},
   "outputs": [],
   "source": [
    "df['Engine'] = df['Engine'].astype('float64')"
   ]
  },
  {
   "cell_type": "code",
   "execution_count": 326,
   "id": "a438e915-e544-4102-b0c9-581fda0d7775",
   "metadata": {},
   "outputs": [],
   "source": [
    "df.replace('null', np.nan, inplace=True)\n",
    "df['Power'] = df['Power'].astype('float64')"
   ]
  },
  {
   "cell_type": "code",
   "execution_count": 327,
   "id": "25dd8b7b-735f-4aaf-9646-6321774809c9",
   "metadata": {},
   "outputs": [
    {
     "data": {
      "text/html": [
       "<div>\n",
       "<style scoped>\n",
       "    .dataframe tbody tr th:only-of-type {\n",
       "        vertical-align: middle;\n",
       "    }\n",
       "\n",
       "    .dataframe tbody tr th {\n",
       "        vertical-align: top;\n",
       "    }\n",
       "\n",
       "    .dataframe thead th {\n",
       "        text-align: right;\n",
       "    }\n",
       "</style>\n",
       "<table border=\"1\" class=\"dataframe\">\n",
       "  <thead>\n",
       "    <tr style=\"text-align: right;\">\n",
       "      <th></th>\n",
       "      <th>Name</th>\n",
       "      <th>Location</th>\n",
       "      <th>Price</th>\n",
       "      <th>Year</th>\n",
       "      <th>Kilometers_Driven</th>\n",
       "      <th>Fuel_Type</th>\n",
       "      <th>Transmission</th>\n",
       "      <th>Owner_Type</th>\n",
       "      <th>Mileage</th>\n",
       "      <th>Engine</th>\n",
       "      <th>Power</th>\n",
       "      <th>Seats</th>\n",
       "      <th>New_Price</th>\n",
       "      <th>Mileage_unit</th>\n",
       "      <th>Engine_unit</th>\n",
       "      <th>Power_unit</th>\n",
       "    </tr>\n",
       "  </thead>\n",
       "  <tbody>\n",
       "    <tr>\n",
       "      <th>0</th>\n",
       "      <td>Maruti Wagon R LXI CNG</td>\n",
       "      <td>Mumbai</td>\n",
       "      <td>2682.68</td>\n",
       "      <td>2010</td>\n",
       "      <td>72000</td>\n",
       "      <td>CNG</td>\n",
       "      <td>Manual</td>\n",
       "      <td>First</td>\n",
       "      <td>37.24</td>\n",
       "      <td>998.0</td>\n",
       "      <td>58.16</td>\n",
       "      <td>5.0</td>\n",
       "      <td>NaN</td>\n",
       "      <td>kmpl</td>\n",
       "      <td>CC</td>\n",
       "      <td>bhp</td>\n",
       "    </tr>\n",
       "    <tr>\n",
       "      <th>1</th>\n",
       "      <td>Hyundai Creta 1.6 CRDi SX Option</td>\n",
       "      <td>Pune</td>\n",
       "      <td>19162.0</td>\n",
       "      <td>2015</td>\n",
       "      <td>41000</td>\n",
       "      <td>Diesel</td>\n",
       "      <td>Manual</td>\n",
       "      <td>First</td>\n",
       "      <td>19.67</td>\n",
       "      <td>1582.0</td>\n",
       "      <td>126.20</td>\n",
       "      <td>5.0</td>\n",
       "      <td>NaN</td>\n",
       "      <td>kmpl</td>\n",
       "      <td>CC</td>\n",
       "      <td>bhp</td>\n",
       "    </tr>\n",
       "    <tr>\n",
       "      <th>2</th>\n",
       "      <td>Honda Jazz V</td>\n",
       "      <td>Chennai</td>\n",
       "      <td>6898.32</td>\n",
       "      <td>2011</td>\n",
       "      <td>46000</td>\n",
       "      <td>Petrol</td>\n",
       "      <td>Manual</td>\n",
       "      <td>First</td>\n",
       "      <td>18.20</td>\n",
       "      <td>1199.0</td>\n",
       "      <td>88.70</td>\n",
       "      <td>5.0</td>\n",
       "      <td>8.61 Lakh</td>\n",
       "      <td>kmpl</td>\n",
       "      <td>CC</td>\n",
       "      <td>bhp</td>\n",
       "    </tr>\n",
       "    <tr>\n",
       "      <th>3</th>\n",
       "      <td>Maruti Ertiga VDI</td>\n",
       "      <td>Chennai</td>\n",
       "      <td>9197.76</td>\n",
       "      <td>2012</td>\n",
       "      <td>87000</td>\n",
       "      <td>Diesel</td>\n",
       "      <td>Manual</td>\n",
       "      <td>First</td>\n",
       "      <td>20.77</td>\n",
       "      <td>1248.0</td>\n",
       "      <td>88.76</td>\n",
       "      <td>7.0</td>\n",
       "      <td>NaN</td>\n",
       "      <td>kmpl</td>\n",
       "      <td>CC</td>\n",
       "      <td>bhp</td>\n",
       "    </tr>\n",
       "    <tr>\n",
       "      <th>4</th>\n",
       "      <td>Audi A4 New 2.0 TDI Multitronic</td>\n",
       "      <td>Coimbatore</td>\n",
       "      <td>27194.71</td>\n",
       "      <td>2013</td>\n",
       "      <td>40670</td>\n",
       "      <td>Diesel</td>\n",
       "      <td>Automatic</td>\n",
       "      <td>Second</td>\n",
       "      <td>15.20</td>\n",
       "      <td>1968.0</td>\n",
       "      <td>140.80</td>\n",
       "      <td>5.0</td>\n",
       "      <td>NaN</td>\n",
       "      <td>kmpl</td>\n",
       "      <td>CC</td>\n",
       "      <td>bhp</td>\n",
       "    </tr>\n",
       "  </tbody>\n",
       "</table>\n",
       "</div>"
      ],
      "text/plain": [
       "                               Name    Location     Price  Year  \\\n",
       "0            Maruti Wagon R LXI CNG      Mumbai   2682.68  2010   \n",
       "1  Hyundai Creta 1.6 CRDi SX Option        Pune   19162.0  2015   \n",
       "2                      Honda Jazz V     Chennai   6898.32  2011   \n",
       "3                 Maruti Ertiga VDI     Chennai   9197.76  2012   \n",
       "4   Audi A4 New 2.0 TDI Multitronic  Coimbatore  27194.71  2013   \n",
       "\n",
       "   Kilometers_Driven Fuel_Type Transmission Owner_Type  Mileage  Engine  \\\n",
       "0              72000       CNG       Manual      First    37.24   998.0   \n",
       "1              41000    Diesel       Manual      First    19.67  1582.0   \n",
       "2              46000    Petrol       Manual      First    18.20  1199.0   \n",
       "3              87000    Diesel       Manual      First    20.77  1248.0   \n",
       "4              40670    Diesel    Automatic     Second    15.20  1968.0   \n",
       "\n",
       "    Power Seats  New_Price Mileage_unit Engine_unit Power_unit  \n",
       "0   58.16   5.0        NaN         kmpl          CC        bhp  \n",
       "1  126.20   5.0        NaN         kmpl          CC        bhp  \n",
       "2   88.70   5.0  8.61 Lakh         kmpl          CC        bhp  \n",
       "3   88.76   7.0        NaN         kmpl          CC        bhp  \n",
       "4  140.80   5.0        NaN         kmpl          CC        bhp  "
      ]
     },
     "execution_count": 327,
     "metadata": {},
     "output_type": "execute_result"
    }
   ],
   "source": [
    "df.head()"
   ]
  },
  {
   "cell_type": "code",
   "execution_count": 328,
   "id": "71406815-a3fa-4e4c-8672-d7e2d6ba3ae8",
   "metadata": {},
   "outputs": [
    {
     "data": {
      "text/plain": [
       "<Axes: >"
      ]
     },
     "execution_count": 328,
     "metadata": {},
     "output_type": "execute_result"
    },
    {
     "data": {
      "image/png": "[encoded data removed]",
      "text/plain": [
       "<Figure size 640x480 with 1 Axes>"
      ]
     },
     "metadata": {},
     "output_type": "display_data"
    }
   ],
   "source": [
    "df.boxplot(['Year'])"
   ]
  },
  {
   "cell_type": "code",
   "execution_count": 329,
   "id": "7f54708d-aaba-40db-8064-0e22cceec50f",
   "metadata": {},
   "outputs": [
    {
     "data": {
      "text/plain": [
       "<Axes: >"
      ]
     },
     "execution_count": 329,
     "metadata": {},
     "output_type": "execute_result"
    },
    {
     "data": {
      "image/png": "[encoded data removed]",
      "text/plain": [
       "<Figure size 640x480 with 1 Axes>"
      ]
     },
     "metadata": {},
     "output_type": "display_data"
    }
   ],
   "source": [
    "df.boxplot(['Mileage'])"
   ]
  },
  {
   "cell_type": "code",
   "execution_count": 330,
   "id": "cf0a0e3e-555f-49aa-89d3-42955a398439",
   "metadata": {},
   "outputs": [
    {
     "data": {
      "text/plain": [
       "<Axes: >"
      ]
     },
     "execution_count": 330,
     "metadata": {},
     "output_type": "execute_result"
    },
    {
     "data": {
      "image/png": "[encoded data removed]",
      "text/plain": [
       "<Figure size 640x480 with 1 Axes>"
      ]
     },
     "metadata": {},
     "output_type": "display_data"
    }
   ],
   "source": [
    "df.boxplot(['Engine'])"
   ]
  },
  {
   "cell_type": "code",
   "execution_count": 331,
   "id": "51eeb12d-e241-4f4a-9507-f3f9334d424a",
   "metadata": {},
   "outputs": [
    {
     "data": {
      "text/plain": [
       "<Axes: >"
      ]
     },
     "execution_count": 331,
     "metadata": {},
     "output_type": "execute_result"
    },
    {
     "data": {
      "image/png": "[encoded data removed]",
      "text/plain": [
       "<Figure size 640x480 with 1 Axes>"
      ]
     },
     "metadata": {},
     "output_type": "display_data"
    }
   ],
   "source": [
    "df.boxplot(['Power'])"
   ]
  },
  {
   "cell_type": "code",
   "execution_count": 346,
   "id": "40d109a5-8b07-4df0-bc03-25e971a70355",
   "metadata": {},
   "outputs": [
    {
     "data": {
      "text/plain": [
       "<Axes: >"
      ]
     },
     "execution_count": 346,
     "metadata": {},
     "output_type": "execute_result"
    },
    {
     "data": {
      "image/png": "[encoded data removed]",
      "text/plain": [
       "<Figure size 640x480 with 1 Axes>"
      ]
     },
     "metadata": {},
     "output_type": "display_data"
    }
   ],
   "source": [
    "df.boxplot(['Kilometers_Driven'])"
   ]
  },
  {
   "cell_type": "code",
   "execution_count": 335,
   "id": "107c5521-3840-47b7-b41f-c6e8256ee421",
   "metadata": {},
   "outputs": [
    {
     "data": {
      "text/plain": [
       "<Axes: >"
      ]
     },
     "execution_count": 335,
     "metadata": {},
     "output_type": "execute_result"
    },
    {
     "data": {
      "image/png": "[encoded data removed]",
      "text/plain": [
       "<Figure size 640x480 with 1 Axes>"
      ]
     },
     "metadata": {},
     "output_type": "display_data"
    }
   ],
   "source": [
    "df.boxplot(['Kilometers_Driven'])"
   ]
  },
  {
   "cell_type": "code",
   "execution_count": 336,
   "id": "586081d6-37ce-49e8-af8d-843a8c3c1c3a",
   "metadata": {},
   "outputs": [
    {
     "data": {
      "text/html": [
       "<div>\n",
       "<style scoped>\n",
       "    .dataframe tbody tr th:only-of-type {\n",
       "        vertical-align: middle;\n",
       "    }\n",
       "\n",
       "    .dataframe tbody tr th {\n",
       "        vertical-align: top;\n",
       "    }\n",
       "\n",
       "    .dataframe thead th {\n",
       "        text-align: right;\n",
       "    }\n",
       "</style>\n",
       "<table border=\"1\" class=\"dataframe\">\n",
       "  <thead>\n",
       "    <tr style=\"text-align: right;\">\n",
       "      <th></th>\n",
       "      <th>Region</th>\n",
       "      <th>State</th>\n",
       "      <th>Location</th>\n",
       "      <th>manufacturer</th>\n",
       "      <th>car_model</th>\n",
       "      <th>car_option</th>\n",
       "      <th>Year</th>\n",
       "      <th>Price</th>\n",
       "      <th>New_Price</th>\n",
       "      <th>Kilometers_Driven</th>\n",
       "      <th>Fuel_Type</th>\n",
       "      <th>Transmission</th>\n",
       "      <th>Owner_Type</th>\n",
       "      <th>Mileage</th>\n",
       "      <th>Engine</th>\n",
       "      <th>Power</th>\n",
       "      <th>Seats</th>\n",
       "    </tr>\n",
       "  </thead>\n",
       "  <tbody>\n",
       "    <tr>\n",
       "      <th>0</th>\n",
       "      <td>South</td>\n",
       "      <td>Maharashtra</td>\n",
       "      <td>Mumbai</td>\n",
       "      <td>Maruti</td>\n",
       "      <td>Wagon</td>\n",
       "      <td>R LXI CNG</td>\n",
       "      <td>2010</td>\n",
       "      <td>2682.68</td>\n",
       "      <td>NaN</td>\n",
       "      <td>72000.0</td>\n",
       "      <td>CNG</td>\n",
       "      <td>Manual</td>\n",
       "      <td>First</td>\n",
       "      <td>37.24</td>\n",
       "      <td>998.0</td>\n",
       "      <td>58.16</td>\n",
       "      <td>5.0</td>\n",
       "    </tr>\n",
       "    <tr>\n",
       "      <th>1</th>\n",
       "      <td>South</td>\n",
       "      <td>Maharashtra</td>\n",
       "      <td>Pune</td>\n",
       "      <td>Hyundai</td>\n",
       "      <td>Creta</td>\n",
       "      <td>1.6 CRDi SX Option</td>\n",
       "      <td>2015</td>\n",
       "      <td>19162.0</td>\n",
       "      <td>NaN</td>\n",
       "      <td>41000.0</td>\n",
       "      <td>Diesel</td>\n",
       "      <td>Manual</td>\n",
       "      <td>First</td>\n",
       "      <td>19.67</td>\n",
       "      <td>1582.0</td>\n",
       "      <td>126.20</td>\n",
       "      <td>5.0</td>\n",
       "    </tr>\n",
       "    <tr>\n",
       "      <th>2</th>\n",
       "      <td>South</td>\n",
       "      <td>Tamil Nadu</td>\n",
       "      <td>Chennai</td>\n",
       "      <td>Honda</td>\n",
       "      <td>Jazz</td>\n",
       "      <td>V</td>\n",
       "      <td>2011</td>\n",
       "      <td>6898.32</td>\n",
       "      <td>8.61 Lakh</td>\n",
       "      <td>46000.0</td>\n",
       "      <td>Petrol</td>\n",
       "      <td>Manual</td>\n",
       "      <td>First</td>\n",
       "      <td>18.20</td>\n",
       "      <td>1199.0</td>\n",
       "      <td>88.70</td>\n",
       "      <td>5.0</td>\n",
       "    </tr>\n",
       "    <tr>\n",
       "      <th>3</th>\n",
       "      <td>South</td>\n",
       "      <td>Tamil Nadu</td>\n",
       "      <td>Chennai</td>\n",
       "      <td>Maruti</td>\n",
       "      <td>Ertiga</td>\n",
       "      <td>VDI</td>\n",
       "      <td>2012</td>\n",
       "      <td>9197.76</td>\n",
       "      <td>NaN</td>\n",
       "      <td>87000.0</td>\n",
       "      <td>Diesel</td>\n",
       "      <td>Manual</td>\n",
       "      <td>First</td>\n",
       "      <td>20.77</td>\n",
       "      <td>1248.0</td>\n",
       "      <td>88.76</td>\n",
       "      <td>7.0</td>\n",
       "    </tr>\n",
       "    <tr>\n",
       "      <th>4</th>\n",
       "      <td>South</td>\n",
       "      <td>Tamil Nadu</td>\n",
       "      <td>Coimbatore</td>\n",
       "      <td>Audi</td>\n",
       "      <td>A4</td>\n",
       "      <td>New 2.0 TDI Multitronic</td>\n",
       "      <td>2013</td>\n",
       "      <td>27194.71</td>\n",
       "      <td>NaN</td>\n",
       "      <td>40670.0</td>\n",
       "      <td>Diesel</td>\n",
       "      <td>Automatic</td>\n",
       "      <td>Second</td>\n",
       "      <td>15.20</td>\n",
       "      <td>1968.0</td>\n",
       "      <td>140.80</td>\n",
       "      <td>5.0</td>\n",
       "    </tr>\n",
       "  </tbody>\n",
       "</table>\n",
       "</div>"
      ],
      "text/plain": [
       "  Region        State    Location manufacturer car_model  \\\n",
       "0  South  Maharashtra      Mumbai       Maruti     Wagon   \n",
       "1  South  Maharashtra        Pune      Hyundai     Creta   \n",
       "2  South   Tamil Nadu     Chennai        Honda      Jazz   \n",
       "3  South   Tamil Nadu     Chennai       Maruti    Ertiga   \n",
       "4  South   Tamil Nadu  Coimbatore         Audi        A4   \n",
       "\n",
       "                car_option  Year     Price  New_Price  Kilometers_Driven  \\\n",
       "0                R LXI CNG  2010   2682.68        NaN            72000.0   \n",
       "1       1.6 CRDi SX Option  2015   19162.0        NaN            41000.0   \n",
       "2                        V  2011   6898.32  8.61 Lakh            46000.0   \n",
       "3                      VDI  2012   9197.76        NaN            87000.0   \n",
       "4  New 2.0 TDI Multitronic  2013  27194.71        NaN            40670.0   \n",
       "\n",
       "  Fuel_Type Transmission Owner_Type  Mileage  Engine   Power Seats  \n",
       "0       CNG       Manual      First    37.24   998.0   58.16   5.0  \n",
       "1    Diesel       Manual      First    19.67  1582.0  126.20   5.0  \n",
       "2    Petrol       Manual      First    18.20  1199.0   88.70   5.0  \n",
       "3    Diesel       Manual      First    20.77  1248.0   88.76   7.0  \n",
       "4    Diesel    Automatic     Second    15.20  1968.0  140.80   5.0  "
      ]
     },
     "execution_count": 336,
     "metadata": {},
     "output_type": "execute_result"
    }
   ],
   "source": [
    "import pandas as pd\n",
    "import plotly.express as px\n",
    "import json\n",
    "df_clean = df\n",
    "df_clean[['manufacturer', 'car_model']] = df['Name'].str.split(n=1, expand=True)\n",
    "df_clean[['car_model', 'car_option']] = df['car_model'].str.split(n=1, expand=True)\n",
    "df_clean['manufacturer'].value_counts()\n",
    "city_to_state = {\n",
    "    'Mumbai': 'Maharashtra',\n",
    "    'Hyderabad': 'Telangana',\n",
    "    'Coimbatore': 'Tamil Nadu',\n",
    "    'Kochi': 'Kerala',\n",
    "    'Pune': 'Maharashtra',\n",
    "    'Delhi': 'Delhi',\n",
    "    'Kolkata': 'West Bengal',\n",
    "    'Chennai': 'Tamil Nadu',\n",
    "    'Jaipur': 'Rajasthan',\n",
    "    'Bangalore': 'Karnataka',\n",
    "    'Ahmedabad': 'Gujarat'\n",
    "}\n",
    "state_to_region = {\n",
    "    'Maharashtra': 'South',\n",
    "    'Telangana': 'South',\n",
    "    'Tamil Nadu': 'South',\n",
    "    'Kerala': 'South',\n",
    "    'Delhi': 'North',\n",
    "    'West Bengal': 'North',\n",
    "    'Rajasthan': 'North',\n",
    "    'Karnataka': 'South',\n",
    "    'Gujarat': 'North'\n",
    "}\n",
    "df_clean['State'] = df_clean['Location'].map(city_to_state)\n",
    "df_clean['Region'] = df_clean['State'].map(state_to_region)\n",
    "df_clean = df_clean.drop(columns=['Name'])\n",
    "df_clean = df_clean[['Region', 'State', 'Location', 'manufacturer', 'car_model', 'car_option', 'Year','Price', 'New_Price', 'Kilometers_Driven', 'Fuel_Type', 'Transmission', 'Owner_Type', 'Mileage', 'Engine', 'Power', 'Seats']]\n",
    "df_clean.head()"
   ]
  },
  {
   "cell_type": "code",
   "execution_count": 337,
   "id": "1131904f-edb7-4398-b49b-846bba01950d",
   "metadata": {},
   "outputs": [
    {
     "name": "stdout",
     "output_type": "stream",
     "text": [
      "Name\n",
      "Ambassador Classic Nova Diesel      Chennai\n",
      "Audi A3 35 TDI Attraction           Chennai\n",
      "Audi A3 35 TDI Premium               Mumbai\n",
      "Audi A3 35 TDI Premium Plus          Mumbai\n",
      "Audi A3 35 TDI Technology             Delhi\n",
      "                                    ...    \n",
      "Volvo XC60 D4 Summum              Hyderabad\n",
      "Volvo XC60 D5                          Pune\n",
      "Volvo XC60 D5 Inscription             Kochi\n",
      "Volvo XC90 2007-2015 D5 AT AWD        Kochi\n",
      "Volvo XC90 2007-2015 D5 AWD           Kochi\n",
      "Name: Location, Length: 2039, dtype: object\n"
     ]
    }
   ],
   "source": [
    "most_common_location = df.groupby('Name')['Location'].agg(lambda x: x.value_counts().index[0])\n",
    "print(most_common_location)"
   ]
  },
  {
   "cell_type": "code",
   "execution_count": 338,
   "id": "b5d902ff-7a33-4739-a5ca-c35f61e8d5d1",
   "metadata": {},
   "outputs": [
    {
     "name": "stdout",
     "output_type": "stream",
     "text": [
      "Name\n",
      "Mahindra XUV500 W8 2WD              55\n",
      "Maruti Swift VDI                    49\n",
      "Maruti Swift Dzire VDI              42\n",
      "Honda City 1.5 S MT                 39\n",
      "Maruti Swift VDI BSIV               37\n",
      "Maruti Ritz VDi                     35\n",
      "Toyota Fortuner 3.0 Diesel          35\n",
      "Hyundai Grand i10 Sportz            32\n",
      "Honda Brio S MT                     32\n",
      "Honda City 1.5 V MT                 32\n",
      "Honda Amaze S i-Dtech               32\n",
      "Hyundai i10 Sportz                  31\n",
      "Maruti Alto LXi                     30\n",
      "Maruti Wagon R LXI                  29\n",
      "Maruti Ertiga VDI                   28\n",
      "Volkswagen Polo 1.2 MPI Highline    26\n",
      "Maruti Wagon R VXI                  25\n",
      "Hyundai EON Era Plus                25\n",
      "Hyundai Verna 1.6 SX                25\n",
      "Skoda Superb Elegance 1.8 TSI AT    23\n",
      "Name: count, dtype: int64\n"
     ]
    }
   ],
   "source": [
    "top_20_names = df['Name'].value_counts().head(20)\n",
    "print(top_20_names)"
   ]
  },
  {
   "cell_type": "code",
   "execution_count": 339,
   "id": "7298b9da-3405-41bc-aa30-84a624f610c2",
   "metadata": {},
   "outputs": [
    {
     "name": "stdout",
     "output_type": "stream",
     "text": [
      "Name\n",
      "Honda Amaze S i-Dtech                  Kolkata\n",
      "Honda Brio S MT                         Mumbai\n",
      "Honda City 1.5 S MT                      Delhi\n",
      "Honda City 1.5 V MT                    Kolkata\n",
      "Hyundai EON Era Plus                    Jaipur\n",
      "Hyundai Grand i10 Sportz                Mumbai\n",
      "Hyundai Verna 1.6 SX                 Hyderabad\n",
      "Hyundai i10 Sportz                       Kochi\n",
      "Mahindra XUV500 W8 2WD              Coimbatore\n",
      "Maruti Alto LXi                        Chennai\n",
      "Maruti Ertiga VDI                         Pune\n",
      "Maruti Ritz VDi                      Hyderabad\n",
      "Maruti Swift Dzire VDI                 Kolkata\n",
      "Maruti Swift VDI                          Pune\n",
      "Maruti Swift VDI BSIV                Hyderabad\n",
      "Maruti Wagon R LXI                       Delhi\n",
      "Maruti Wagon R VXI                     Kolkata\n",
      "Skoda Superb Elegance 1.8 TSI AT        Mumbai\n",
      "Toyota Fortuner 3.0 Diesel               Delhi\n",
      "Volkswagen Polo 1.2 MPI Highline        Mumbai\n",
      "Name: Location, dtype: object\n"
     ]
    }
   ],
   "source": [
    "# 가장 많은 Name 20개에 해당하는 데이터 필터링\n",
    "top_20_names_df = df[df['Name'].isin(top_20_names.index)]\n",
    "\n",
    "# 각 Name별 많이 중복되는 Location 조회\n",
    "most_common_location_top_20 = top_20_names_df.groupby('Name')['Location'].agg(lambda x: x.value_counts().index[0])\n",
    "print(most_common_location_top_20)"
   ]
  },
  {
   "cell_type": "code",
   "execution_count": null,
   "id": "f65dcdcb-dc12-4b6e-9ad2-acd6856c3a42",
   "metadata": {},
   "outputs": [],
   "source": []
  }
 ],
 "metadata": {
  "kernelspec": {
   "display_name": "Python 3 (ipykernel)",
   "language": "python",
   "name": "python3"
  },
  "language_info": {
   "codemirror_mode": {
    "name": "ipython",
    "version": 3
   },
   "file_extension": ".py",
   "mimetype": "text/x-python",
   "name": "python",
   "nbconvert_exporter": "python",
   "pygments_lexer": "ipython3",
   "version": "3.11.7"
  }
 },
 "nbformat": 4,
 "nbformat_minor": 5
}
