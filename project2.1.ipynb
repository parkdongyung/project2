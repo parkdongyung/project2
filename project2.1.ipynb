{
 "cells": [
  {
   "cell_type": "code",
   "execution_count": 1,
   "id": "2f594af9-79b9-47cb-854d-2b469831753a",
   "metadata": {},
   "outputs": [],
   "source": [
    "import numpy as np\n",
    "from scipy import stats\n",
    "import pandas as pd\n",
    "import matplotlib.pyplot as plt\n",
    "import seaborn as sns\n",
    "from statsmodels.stats.proportion import proportions_ztest\n",
    "import matplotlib\n",
    "matplotlib.rc('font', family = 'Malgun Gothic')\n",
    "matplotlib.rc('axes', unicode_minus = False)\n",
    "%matplotlib inline\n",
    "import warnings\n",
    "warnings.filterwarnings('ignore')\n",
    "from sklearn.model_selection import train_test_split\n",
    "from statsmodels.api import qqplot, add_constant\n",
    "import statsmodels.formula.api as smf\n",
    "from statsmodels.tools.eval_measures import rmse\n",
    "from sklearn.metrics import r2_score\n",
    "from statsmodels.stats.outliers_influence import variance_inflation_factor"
   ]
  },
  {
   "cell_type": "code",
   "execution_count": 3,
   "id": "e08e24d7-b6c0-4008-9cc3-02dcd783ca16",
   "metadata": {},
   "outputs": [
    {
     "data": {
      "text/html": [
       "<div>\n",
       "<style scoped>\n",
       "    .dataframe tbody tr th:only-of-type {\n",
       "        vertical-align: middle;\n",
       "    }\n",
       "\n",
       "    .dataframe tbody tr th {\n",
       "        vertical-align: top;\n",
       "    }\n",
       "\n",
       "    .dataframe thead th {\n",
       "        text-align: right;\n",
       "    }\n",
       "</style>\n",
       "<table border=\"1\" class=\"dataframe\">\n",
       "  <thead>\n",
       "    <tr style=\"text-align: right;\">\n",
       "      <th></th>\n",
       "      <th>Region</th>\n",
       "      <th>State</th>\n",
       "      <th>Location</th>\n",
       "      <th>manufacturer</th>\n",
       "      <th>car_model</th>\n",
       "      <th>car_option</th>\n",
       "      <th>Year</th>\n",
       "      <th>Price</th>\n",
       "      <th>New_Price</th>\n",
       "      <th>Kilometers_Driven</th>\n",
       "      <th>Fuel_Type</th>\n",
       "      <th>Transmission</th>\n",
       "      <th>Owner_Type</th>\n",
       "      <th>Mileage</th>\n",
       "      <th>Engine</th>\n",
       "      <th>Power</th>\n",
       "      <th>Seats</th>\n",
       "      <th>Mileage_unit</th>\n",
       "      <th>Power_unit</th>\n",
       "    </tr>\n",
       "  </thead>\n",
       "  <tbody>\n",
       "    <tr>\n",
       "      <th>0</th>\n",
       "      <td>South</td>\n",
       "      <td>Maharashtra</td>\n",
       "      <td>Mumbai</td>\n",
       "      <td>Maruti</td>\n",
       "      <td>Wagon</td>\n",
       "      <td>R LXI CNG</td>\n",
       "      <td>2010</td>\n",
       "      <td>2682.68</td>\n",
       "      <td>NaN</td>\n",
       "      <td>72000</td>\n",
       "      <td>CNG</td>\n",
       "      <td>Manual</td>\n",
       "      <td>First</td>\n",
       "      <td>37.2400</td>\n",
       "      <td>998 CC</td>\n",
       "      <td>58.16</td>\n",
       "      <td>5.0</td>\n",
       "      <td>kmpl</td>\n",
       "      <td>NaN</td>\n",
       "    </tr>\n",
       "    <tr>\n",
       "      <th>1</th>\n",
       "      <td>South</td>\n",
       "      <td>Maharashtra</td>\n",
       "      <td>Pune</td>\n",
       "      <td>Hyundai</td>\n",
       "      <td>Creta</td>\n",
       "      <td>1.6 CRDi SX Option</td>\n",
       "      <td>2015</td>\n",
       "      <td>19162.00</td>\n",
       "      <td>NaN</td>\n",
       "      <td>41000</td>\n",
       "      <td>Diesel</td>\n",
       "      <td>Manual</td>\n",
       "      <td>First</td>\n",
       "      <td>16.7195</td>\n",
       "      <td>1582 CC</td>\n",
       "      <td>126.20</td>\n",
       "      <td>5.0</td>\n",
       "      <td>kmpl</td>\n",
       "      <td>NaN</td>\n",
       "    </tr>\n",
       "    <tr>\n",
       "      <th>2</th>\n",
       "      <td>South</td>\n",
       "      <td>Tamil Nadu</td>\n",
       "      <td>Chennai</td>\n",
       "      <td>Honda</td>\n",
       "      <td>Jazz</td>\n",
       "      <td>V</td>\n",
       "      <td>2011</td>\n",
       "      <td>6898.32</td>\n",
       "      <td>8.61 Lakh</td>\n",
       "      <td>46000</td>\n",
       "      <td>Petrol</td>\n",
       "      <td>Manual</td>\n",
       "      <td>First</td>\n",
       "      <td>13.6500</td>\n",
       "      <td>1199 CC</td>\n",
       "      <td>88.70</td>\n",
       "      <td>5.0</td>\n",
       "      <td>kmpl</td>\n",
       "      <td>NaN</td>\n",
       "    </tr>\n",
       "    <tr>\n",
       "      <th>3</th>\n",
       "      <td>South</td>\n",
       "      <td>Tamil Nadu</td>\n",
       "      <td>Chennai</td>\n",
       "      <td>Maruti</td>\n",
       "      <td>Ertiga</td>\n",
       "      <td>VDI</td>\n",
       "      <td>2012</td>\n",
       "      <td>9197.76</td>\n",
       "      <td>NaN</td>\n",
       "      <td>87000</td>\n",
       "      <td>Diesel</td>\n",
       "      <td>Manual</td>\n",
       "      <td>First</td>\n",
       "      <td>17.6545</td>\n",
       "      <td>1248 CC</td>\n",
       "      <td>88.76</td>\n",
       "      <td>7.0</td>\n",
       "      <td>kmpl</td>\n",
       "      <td>NaN</td>\n",
       "    </tr>\n",
       "    <tr>\n",
       "      <th>4</th>\n",
       "      <td>South</td>\n",
       "      <td>Tamil Nadu</td>\n",
       "      <td>Coimbatore</td>\n",
       "      <td>Audi</td>\n",
       "      <td>A4</td>\n",
       "      <td>New 2.0 TDI Multitronic</td>\n",
       "      <td>2013</td>\n",
       "      <td>27194.71</td>\n",
       "      <td>NaN</td>\n",
       "      <td>40670</td>\n",
       "      <td>Diesel</td>\n",
       "      <td>Automatic</td>\n",
       "      <td>Second</td>\n",
       "      <td>12.9200</td>\n",
       "      <td>1968 CC</td>\n",
       "      <td>140.80</td>\n",
       "      <td>5.0</td>\n",
       "      <td>kmpl</td>\n",
       "      <td>NaN</td>\n",
       "    </tr>\n",
       "  </tbody>\n",
       "</table>\n",
       "</div>"
      ],
      "text/plain": [
       "  Region        State    Location manufacturer car_model  \\\n",
       "0  South  Maharashtra      Mumbai       Maruti     Wagon   \n",
       "1  South  Maharashtra        Pune      Hyundai     Creta   \n",
       "2  South   Tamil Nadu     Chennai        Honda      Jazz   \n",
       "3  South   Tamil Nadu     Chennai       Maruti    Ertiga   \n",
       "4  South   Tamil Nadu  Coimbatore         Audi        A4   \n",
       "\n",
       "                car_option  Year     Price  New_Price  Kilometers_Driven  \\\n",
       "0                R LXI CNG  2010   2682.68        NaN              72000   \n",
       "1       1.6 CRDi SX Option  2015  19162.00        NaN              41000   \n",
       "2                        V  2011   6898.32  8.61 Lakh              46000   \n",
       "3                      VDI  2012   9197.76        NaN              87000   \n",
       "4  New 2.0 TDI Multitronic  2013  27194.71        NaN              40670   \n",
       "\n",
       "  Fuel_Type Transmission Owner_Type  Mileage   Engine   Power  Seats  \\\n",
       "0       CNG       Manual      First  37.2400   998 CC   58.16    5.0   \n",
       "1    Diesel       Manual      First  16.7195  1582 CC  126.20    5.0   \n",
       "2    Petrol       Manual      First  13.6500  1199 CC   88.70    5.0   \n",
       "3    Diesel       Manual      First  17.6545  1248 CC   88.76    7.0   \n",
       "4    Diesel    Automatic     Second  12.9200  1968 CC  140.80    5.0   \n",
       "\n",
       "  Mileage_unit Power_unit  \n",
       "0         kmpl        NaN  \n",
       "1         kmpl        NaN  \n",
       "2         kmpl        NaN  \n",
       "3         kmpl        NaN  \n",
       "4         kmpl        NaN  "
      ]
     },
     "execution_count": 3,
     "metadata": {},
     "output_type": "execute_result"
    }
   ],
   "source": [
    "df = pd.read_csv('C:/Users/campus4D045/Desktop/data/car_aa.csv')\n",
    "df.head()"
   ]
  },
  {
   "cell_type": "code",
   "execution_count": 8,
   "id": "cec6acf0-733c-4c84-bdda-b5ec2b0d83ef",
   "metadata": {},
   "outputs": [
    {
     "name": "stdout",
     "output_type": "stream",
     "text": [
      "<class 'pandas.core.frame.DataFrame'>\n",
      "RangeIndex: 6129 entries, 0 to 6128\n",
      "Data columns (total 19 columns):\n",
      " #   Column             Non-Null Count  Dtype  \n",
      "---  ------             --------------  -----  \n",
      " 0   Region             6129 non-null   object \n",
      " 1   State              6129 non-null   object \n",
      " 2   Location           6129 non-null   object \n",
      " 3   manufacturer       6129 non-null   object \n",
      " 4   car_model          6129 non-null   object \n",
      " 5   car_option         6129 non-null   object \n",
      " 6   Year               6129 non-null   int64  \n",
      " 7   Price              6129 non-null   float64\n",
      " 8   New_Price          1000 non-null   object \n",
      " 9   Kilometers_Driven  6129 non-null   int64  \n",
      " 10  Fuel_Type          6129 non-null   object \n",
      " 11  Transmission       6129 non-null   object \n",
      " 12  Owner_Type         6129 non-null   object \n",
      " 13  Mileage            6129 non-null   float64\n",
      " 14  Engine             6129 non-null   object \n",
      " 15  Power              6129 non-null   float64\n",
      " 16  Seats              6129 non-null   float64\n",
      " 17  Mileage_unit       6129 non-null   object \n",
      " 18  Power_unit         79 non-null     object \n",
      "dtypes: float64(4), int64(2), object(13)\n",
      "memory usage: 909.9+ KB\n"
     ]
    }
   ],
   "source": [
    "df.info()"
   ]
  },
  {
   "cell_type": "code",
   "execution_count": 14,
   "id": "24aac233-b333-48f7-bdb7-ee6ca2ed26ea",
   "metadata": {},
   "outputs": [
    {
     "name": "stdout",
     "output_type": "stream",
     "text": [
      "Hyundai 자동차의 연도 평균: 2013.72\n"
     ]
    }
   ],
   "source": [
    "# Hyundai 자동차 데이터 필터링\n",
    "hyundai_cars = df[df['manufacturer'] == 'Hyundai']\n",
    "\n",
    "# Hyundai 자동차 연도의 평균 계산\n",
    "average_year = hyundai_cars['Year'].mean()\n",
    "\n",
    "print(f\"Hyundai 자동차의 연도 평균: {average_year.round(2)}\")"
   ]
  },
  {
   "cell_type": "code",
   "execution_count": 15,
   "id": "081cd882-b2c1-42d9-9a2f-92025e1d1983",
   "metadata": {},
   "outputs": [
    {
     "name": "stdout",
     "output_type": "stream",
     "text": [
      "Maruti 자동차의 연도 평균: 2013.54\n"
     ]
    }
   ],
   "source": [
    "# Hyundai 자동차 데이터 필터링\n",
    "hyundai_cars = df[df['manufacturer'] == 'Maruti']\n",
    "\n",
    "# Hyundai 자동차 연도의 평균 계산\n",
    "average_year = hyundai_cars['Year'].mean()\n",
    "\n",
    "print(f\"Maruti 자동차의 연도 평균: {average_year.round(2)}\")"
   ]
  },
  {
   "cell_type": "code",
   "execution_count": 18,
   "id": "07215180-8d94-4f4f-bd9e-643e51df8a66",
   "metadata": {},
   "outputs": [
    {
     "name": "stdout",
     "output_type": "stream",
     "text": [
      "Hyundai가 포함된 차량의 개수: 96\n",
      "Maruti가 포함된 차량의 개수: 1096\n"
     ]
    }
   ],
   "source": [
    "# 'manufacturer' 열에서 'Hyundai'가 포함된 차량 개수 파악\n",
    "hyundai_count = df[df['car_model'].str.contains('Creta', case=False, na=False)].shape[0]\n",
    "\n",
    "# 'manufacturer' 열에서 'Maruti'가 포함된 차량 개수 파악\n",
    "maruti_count = df[df['manufacturer'].str.contains('Hyundai', case=False, na=False)].shape[0]\n",
    "\n",
    "print(f\"Hyundai가 포함된 차량의 개수: {hyundai_count}\")\n",
    "print(f\"Maruti가 포함된 차량의 개수: {maruti_count}\")\n"
   ]
  },
  {
   "cell_type": "code",
   "execution_count": 21,
   "id": "18264632-9e86-4812-8591-25502fb3c205",
   "metadata": {},
   "outputs": [
    {
     "name": "stdout",
     "output_type": "stream",
     "text": [
      "Hyundai이며 가격이 100,000 이하인 차량의 개수: 816\n"
     ]
    },
    {
     "data": {
      "image/png": "[encoded data removed]",
      "text/plain": [
       "<Figure size 1000x600 with 1 Axes>"
      ]
     },
     "metadata": {},
     "output_type": "display_data"
    }
   ],
   "source": [
    "# Hyundai이며 가격이 100,000 이하인 차량 필터링\n",
    "hyundai_under_100k = df[(df['manufacturer'] == 'Hyundai') & (df['Price'] <= 10000)]\n",
    "\n",
    "# 개수 조회\n",
    "count_under_100k = hyundai_under_100k.shape[0]\n",
    "print(f\"Hyundai이며 가격이 100,000 이하인 차량의 개수: {count_under_100k}\")\n",
    "\n",
    "# 박스플롯 그리기\n",
    "plt.figure(figsize=(10, 6))\n",
    "plt.boxplot(hyundai_under_100k['Price'])\n",
    "plt.title('Hyundai 차량 중 가격이 100,000 이하인 차량의 가격 분포')\n",
    "plt.ylabel('Price')\n",
    "plt.show()"
   ]
  },
  {
   "cell_type": "code",
   "execution_count": 27,
   "id": "8bbb7e69-b33a-4ce2-9ebd-821e5b0b1026",
   "metadata": {},
   "outputs": [
    {
     "name": "stdout",
     "output_type": "stream",
     "text": [
      "Hyundai이며 가격이 10,000 이하인 차량의 engine: ['814 CC' '1197 CC' '1991 CC' '1120 CC' '1086 CC' '1493 CC' '1396 CC'\n",
      " '1582 CC' '1591 CC' '1599 CC' '1495 CC' '1186 CC' '998 CC' '1341 CC'\n",
      " '2359 CC' '1997 CC']\n"
     ]
    }
   ],
   "source": [
    "# Hyundai이며 가격이 10,000 이하인 차량 필터링\n",
    "hyundai_under_100k = df[(df['manufacturer'] == 'Hyundai') & (df['Price'] <= 10000)]\n",
    "\n",
    "# 포함된 car_model 조회\n",
    "included_car_models = hyundai_under_100k['Engine'].unique()\n",
    "\n",
    "print(f\"Hyundai이며 가격이 10,000 이하인 차량의 engine: {included_car_models}\")\n"
   ]
  },
  {
   "cell_type": "code",
   "execution_count": 28,
   "id": "6fd7f61e-38eb-47a6-b120-69135b3249cc",
   "metadata": {},
   "outputs": [
    {
     "name": "stdout",
     "output_type": "stream",
     "text": [
      "Hyundai이며 가격이 10,000 이하인 차량의 car_model: ['EON' 'i20' 'Elantra' 'Xcent' 'Grand' 'i10' 'Santro' 'Verna' 'Accent'\n",
      " 'Getz' 'Sonata' 'Tucson' 'Elite']\n"
     ]
    }
   ],
   "source": [
    "# Hyundai이며 가격이 10,000 이하인 차량 필터링\n",
    "hyundai_under_100k = df[(df['manufacturer'] == 'Hyundai') & (df['Price'] <= 10000)]\n",
    "\n",
    "# 포함된 car_model 조회\n",
    "included_car_models = hyundai_under_100k['car_model'].unique()\n",
    "\n",
    "print(f\"Hyundai이며 가격이 10,000 이하인 차량의 car_model: {included_car_models}\")\n"
   ]
  },
  {
   "cell_type": "code",
   "execution_count": 29,
   "id": "2ff79e95-fcd7-482d-bb64-ce6b784a8666",
   "metadata": {},
   "outputs": [
    {
     "name": "stdout",
     "output_type": "stream",
     "text": [
      "Location\n",
      "Ahmedabad          [Diesel, Petrol, CNG]\n",
      "Bangalore               [Diesel, Petrol]\n",
      "Chennai            [Petrol, Diesel, CNG]\n",
      "Coimbatore              [Diesel, Petrol]\n",
      "Delhi              [Diesel, Petrol, CNG]\n",
      "Hyderabad     [LPG, Diesel, Petrol, CNG]\n",
      "Jaipur             [Diesel, Petrol, LPG]\n",
      "Kochi              [Petrol, Diesel, CNG]\n",
      "Kolkata                 [Petrol, Diesel]\n",
      "Mumbai        [CNG, Diesel, Petrol, LPG]\n",
      "Pune          [Diesel, Petrol, CNG, LPG]\n",
      "Name: Fuel_Type, dtype: object\n"
     ]
    }
   ],
   "source": [
    "# 각 Location에 따른 Fuel_Type 조회\n",
    "location_fuel_type = df.groupby('Location')['Fuel_Type'].unique()\n",
    "\n",
    "print(location_fuel_type)\n"
   ]
  },
  {
   "cell_type": "code",
   "execution_count": 41,
   "id": "c737c3e9-b4f4-471b-9fc0-8d8906f26863",
   "metadata": {},
   "outputs": [
    {
     "name": "stdout",
     "output_type": "stream",
     "text": [
      "T-Statistic: -15.377617045006046\n",
      "P-Value: 1.9182986887086706e-48\n"
     ]
    }
   ],
   "source": [
    "# Jaipur와 Chennai의 데이터 분리\n",
    "jaipur_data = df[df['Location'] == 'Jaipur']['Year']\n",
    "chennai_data = df[df['Location'] == 'Kochi']['Year']\n",
    "\n",
    "# 두 표본 t-검정 수행\n",
    "t_stat, p_value = stats.ttest_ind(jaipur_data, chennai_data)\n",
    "\n",
    "print(f\"T-Statistic: {t_stat}\")\n",
    "print(f\"P-Value: {p_value}\")"
   ]
  },
  {
   "cell_type": "code",
   "execution_count": 36,
   "id": "7a681b03-bff5-4e75-a208-8db77f414776",
   "metadata": {},
   "outputs": [
    {
     "data": {
      "image/png": "[encoded data removed]",
      "text/plain": [
       "<Figure size 1000x600 with 1 Axes>"
      ]
     },
     "metadata": {},
     "output_type": "display_data"
    }
   ],
   "source": [
    "# 박스플롯 그리기\n",
    "plt.figure(figsize=(10, 6))\n",
    "plt.boxplot([jaipur_data, chennai_data], labels=['Jaipur', 'Kochi'], vert=False, patch_artist=True,\n",
    "            boxprops=dict(facecolor='blue', color='blue'),\n",
    "            medianprops=dict(color='red'),\n",
    "            whiskerprops=dict(color='blue'),\n",
    "            capprops=dict(color='blue'),\n",
    "            flierprops=dict(markerfacecolor='blue', marker='o', color='blue', alpha=0.5))\n",
    "\n",
    "plt.title('Jaipur와 Kochi의 Year 분포')\n",
    "plt.xlabel('Year')\n",
    "plt.show()"
   ]
  },
  {
   "cell_type": "code",
   "execution_count": 39,
   "id": "a5942032-31fa-4c0b-aea7-046faf57fe96",
   "metadata": {},
   "outputs": [
    {
     "name": "stdout",
     "output_type": "stream",
     "text": [
      "Maruti가 포함된 비율: 20.44%\n"
     ]
    }
   ],
   "source": [
    "# 'manufacturer' 열에서 'Maruti'가 포함된 행 필터링\n",
    "maruti_count = df['manufacturer'].str.contains('Maruti', case=False, na=False).sum()\n",
    "\n",
    "# 전체 행 개수\n",
    "total_count = df.shape[0]\n",
    "\n",
    "# 비율 계산\n",
    "maruti_ratio = (maruti_count / total_count) * 100\n",
    "\n",
    "print(f\"Maruti가 포함된 비율: {maruti_ratio:.2f}%\")\n"
   ]
  },
  {
   "cell_type": "code",
   "execution_count": 40,
   "id": "166f7522-a509-4cba-9744-0f1709e305d4",
   "metadata": {},
   "outputs": [
    {
     "name": "stdout",
     "output_type": "stream",
     "text": [
      "Maruti가 포함된 비율: 17.88%\n"
     ]
    }
   ],
   "source": [
    "# 'manufacturer' 열에서 'Maruti'가 포함된 행 필터링\n",
    "maruti_count = df['manufacturer'].str.contains('Hyundai', case=False, na=False).sum()\n",
    "\n",
    "# 전체 행 개수\n",
    "total_count = df.shape[0]\n",
    "\n",
    "# 비율 계산\n",
    "maruti_ratio = (maruti_count / total_count) * 100\n",
    "\n",
    "print(f\"Maruti가 포함된 비율: {maruti_ratio:.2f}%\")\n"
   ]
  },
  {
   "cell_type": "code",
   "execution_count": 42,
   "id": "d46e9a32-812b-492d-aa9c-6363ae7ce791",
   "metadata": {},
   "outputs": [
    {
     "data": {
      "text/plain": [
       "array(['Maruti', 'Hyundai', 'Honda', 'Audi', 'Nissan', 'Toyota',\n",
       "       'Volkswagen', 'Tata', 'Land', 'Mitsubishi', 'Renault',\n",
       "       'Mercedes-Benz', 'BMW', 'Mahindra', 'Ford', 'Porsche', 'Datsun',\n",
       "       'Jaguar', 'Volvo', 'Chevrolet', 'Skoda', 'Mini', 'Fiat', 'Jeep',\n",
       "       'Ambassador', 'ISUZU', 'Force', 'Bentley', 'Lamborghini'],\n",
       "      dtype=object)"
      ]
     },
     "execution_count": 42,
     "metadata": {},
     "output_type": "execute_result"
    }
   ],
   "source": [
    "df['manufacturer'].unique()"
   ]
  },
  {
   "cell_type": "code",
   "execution_count": 47,
   "id": "53267824-2ca3-48c2-aa06-89d7176d153c",
   "metadata": {},
   "outputs": [
    {
     "name": "stdout",
     "output_type": "stream",
     "text": [
      "4939    Diesel\n",
      "5121    Diesel\n",
      "5145    Diesel\n",
      "Name: Fuel_Type, dtype: object\n"
     ]
    }
   ],
   "source": [
    "# 'car_model'이 'Cayman'인 행 필터링\n",
    "cayman_fuel_type = df[df['manufacturer'] == 'Force']['Fuel_Type']\n",
    "\n",
    "print(cayman_fuel_type)\n"
   ]
  },
  {
   "cell_type": "code",
   "execution_count": null,
   "id": "fd315f87-f805-4401-ab61-5155cef1c372",
   "metadata": {},
   "outputs": [],
   "source": []
  }
 ],
 "metadata": {
  "kernelspec": {
   "display_name": "Python 3 (ipykernel)",
   "language": "python",
   "name": "python3"
  },
  "language_info": {
   "codemirror_mode": {
    "name": "ipython",
    "version": 3
   },
   "file_extension": ".py",
   "mimetype": "text/x-python",
   "name": "python",
   "nbconvert_exporter": "python",
   "pygments_lexer": "ipython3",
   "version": "3.11.7"
  }
 },
 "nbformat": 4,
 "nbformat_minor": 5
}
